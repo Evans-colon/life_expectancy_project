{
  "cells": [
    {
      "cell_type": "markdown",
      "metadata": {
        "id": "view-in-github",
        "colab_type": "text"
      },
      "source": [
        "<a href=\"https://colab.research.google.com/github/Evans-colon/life_expectancy_project/blob/main/life_expectancy_project.ipynb\" target=\"_parent\"><img src=\"https://colab.research.google.com/assets/colab-badge.svg\" alt=\"Open In Colab\"/></a>"
      ]
    },
    {
      "cell_type": "code",
      "execution_count": 589,
      "metadata": {
        "id": "x8QazssYQmpY"
      },
      "outputs": [],
      "source": [
        "import pandas as pd\n",
        "import numpy as np\n",
        "import matplotlib.pyplot as plt\n",
        "import seaborn as sns\n",
        "# !pip install feature_engine\n",
        "from feature_engine.imputation import MeanMedianImputer\n",
        "from sklearn.linear_model import Ridge\n",
        "from sklearn.model_selection import cross_val_score\n",
        "from sklearn.model_selection import RepeatedKFold\n",
        "from numpy import mean\n",
        "from numpy import std\n",
        "from numpy import absolute\n",
        "from sklearn.linear_model import LinearRegression\n",
        "from sklearn.ensemble import RandomForestRegressor\n",
        "from sklearn.model_selection import train_test_split\n",
        "from sklearn.preprocessing import MinMaxScaler, StandardScaler\n",
        "from sklearn.metrics import mean_absolute_error, mean_squared_error, r2_score\n",
        "from sklearn.pipeline import Pipeline\n",
        "from pandas import DataFrame\n",
        "from sklearn.linear_model import LinearRegression\n",
        "from sklearn.linear_model import Lasso\n",
        "from sklearn.linear_model import ElasticNet\n",
        "from sklearn.pipeline import Pipeline\n",
        "from sklearn.ensemble import RandomForestRegressor\n",
        "from sklearn.metrics import mean_squared_error\n",
        "\n",
        "\n"
      ]
    },
    {
      "cell_type": "markdown",
      "source": [
        "*Load the data"
      ],
      "metadata": {
        "id": "jFjhb1UGRyhc"
      }
    },
    {
      "cell_type": "code",
      "execution_count": 590,
      "metadata": {
        "id": "RFFch2D7QuNa",
        "colab": {
          "base_uri": "https://localhost:8080/",
          "height": 260
        },
        "outputId": "c8ba472e-6d9b-49ce-adb6-4dbf7f30e946"
      },
      "outputs": [
        {
          "output_type": "execute_result",
          "data": {
            "text/html": [
              "\n",
              "  <div id=\"df-65e06b2b-b304-4079-b744-0bbc96f02455\">\n",
              "    <div class=\"colab-df-container\">\n",
              "      <div>\n",
              "<style scoped>\n",
              "    .dataframe tbody tr th:only-of-type {\n",
              "        vertical-align: middle;\n",
              "    }\n",
              "\n",
              "    .dataframe tbody tr th {\n",
              "        vertical-align: top;\n",
              "    }\n",
              "\n",
              "    .dataframe thead th {\n",
              "        text-align: right;\n",
              "    }\n",
              "</style>\n",
              "<table border=\"1\" class=\"dataframe\">\n",
              "  <thead>\n",
              "    <tr style=\"text-align: right;\">\n",
              "      <th></th>\n",
              "      <th>Country</th>\n",
              "      <th>Year</th>\n",
              "      <th>Status</th>\n",
              "      <th>Life expectancy</th>\n",
              "      <th>Adult Mortality</th>\n",
              "      <th>infant deaths</th>\n",
              "      <th>Alcohol</th>\n",
              "      <th>percentage expenditure</th>\n",
              "      <th>Hepatitis B</th>\n",
              "      <th>Measles</th>\n",
              "      <th>BMI</th>\n",
              "      <th>under-five deaths</th>\n",
              "      <th>Polio</th>\n",
              "      <th>Total expenditure</th>\n",
              "      <th>Diphtheria</th>\n",
              "      <th>HIV/AIDS</th>\n",
              "      <th>GDP</th>\n",
              "      <th>Population</th>\n",
              "      <th>thinness  1-19 years</th>\n",
              "      <th>thinness 5-9 years</th>\n",
              "      <th>Income composition of resources</th>\n",
              "      <th>Schooling</th>\n",
              "    </tr>\n",
              "  </thead>\n",
              "  <tbody>\n",
              "    <tr>\n",
              "      <th>0</th>\n",
              "      <td>Afghanistan</td>\n",
              "      <td>2015</td>\n",
              "      <td>Developing</td>\n",
              "      <td>65.0</td>\n",
              "      <td>263.0</td>\n",
              "      <td>62</td>\n",
              "      <td>0.01</td>\n",
              "      <td>71.279624</td>\n",
              "      <td>65.0</td>\n",
              "      <td>1154</td>\n",
              "      <td>19.1</td>\n",
              "      <td>83</td>\n",
              "      <td>6.0</td>\n",
              "      <td>8.16</td>\n",
              "      <td>65.0</td>\n",
              "      <td>0.1</td>\n",
              "      <td>584.259210</td>\n",
              "      <td>33736494.0</td>\n",
              "      <td>17.2</td>\n",
              "      <td>17.3</td>\n",
              "      <td>0.479</td>\n",
              "      <td>10.1</td>\n",
              "    </tr>\n",
              "    <tr>\n",
              "      <th>1</th>\n",
              "      <td>Afghanistan</td>\n",
              "      <td>2014</td>\n",
              "      <td>Developing</td>\n",
              "      <td>59.9</td>\n",
              "      <td>271.0</td>\n",
              "      <td>64</td>\n",
              "      <td>0.01</td>\n",
              "      <td>73.523582</td>\n",
              "      <td>62.0</td>\n",
              "      <td>492</td>\n",
              "      <td>18.6</td>\n",
              "      <td>86</td>\n",
              "      <td>58.0</td>\n",
              "      <td>8.18</td>\n",
              "      <td>62.0</td>\n",
              "      <td>0.1</td>\n",
              "      <td>612.696514</td>\n",
              "      <td>327582.0</td>\n",
              "      <td>17.5</td>\n",
              "      <td>17.5</td>\n",
              "      <td>0.476</td>\n",
              "      <td>10.0</td>\n",
              "    </tr>\n",
              "    <tr>\n",
              "      <th>2</th>\n",
              "      <td>Afghanistan</td>\n",
              "      <td>2013</td>\n",
              "      <td>Developing</td>\n",
              "      <td>59.9</td>\n",
              "      <td>268.0</td>\n",
              "      <td>66</td>\n",
              "      <td>0.01</td>\n",
              "      <td>73.219243</td>\n",
              "      <td>64.0</td>\n",
              "      <td>430</td>\n",
              "      <td>18.1</td>\n",
              "      <td>89</td>\n",
              "      <td>62.0</td>\n",
              "      <td>8.13</td>\n",
              "      <td>64.0</td>\n",
              "      <td>0.1</td>\n",
              "      <td>631.744976</td>\n",
              "      <td>31731688.0</td>\n",
              "      <td>17.7</td>\n",
              "      <td>17.7</td>\n",
              "      <td>0.470</td>\n",
              "      <td>9.9</td>\n",
              "    </tr>\n",
              "  </tbody>\n",
              "</table>\n",
              "</div>\n",
              "      <button class=\"colab-df-convert\" onclick=\"convertToInteractive('df-65e06b2b-b304-4079-b744-0bbc96f02455')\"\n",
              "              title=\"Convert this dataframe to an interactive table.\"\n",
              "              style=\"display:none;\">\n",
              "        \n",
              "  <svg xmlns=\"http://www.w3.org/2000/svg\" height=\"24px\"viewBox=\"0 0 24 24\"\n",
              "       width=\"24px\">\n",
              "    <path d=\"M0 0h24v24H0V0z\" fill=\"none\"/>\n",
              "    <path d=\"M18.56 5.44l.94 2.06.94-2.06 2.06-.94-2.06-.94-.94-2.06-.94 2.06-2.06.94zm-11 1L8.5 8.5l.94-2.06 2.06-.94-2.06-.94L8.5 2.5l-.94 2.06-2.06.94zm10 10l.94 2.06.94-2.06 2.06-.94-2.06-.94-.94-2.06-.94 2.06-2.06.94z\"/><path d=\"M17.41 7.96l-1.37-1.37c-.4-.4-.92-.59-1.43-.59-.52 0-1.04.2-1.43.59L10.3 9.45l-7.72 7.72c-.78.78-.78 2.05 0 2.83L4 21.41c.39.39.9.59 1.41.59.51 0 1.02-.2 1.41-.59l7.78-7.78 2.81-2.81c.8-.78.8-2.07 0-2.86zM5.41 20L4 18.59l7.72-7.72 1.47 1.35L5.41 20z\"/>\n",
              "  </svg>\n",
              "      </button>\n",
              "      \n",
              "  <style>\n",
              "    .colab-df-container {\n",
              "      display:flex;\n",
              "      flex-wrap:wrap;\n",
              "      gap: 12px;\n",
              "    }\n",
              "\n",
              "    .colab-df-convert {\n",
              "      background-color: #E8F0FE;\n",
              "      border: none;\n",
              "      border-radius: 50%;\n",
              "      cursor: pointer;\n",
              "      display: none;\n",
              "      fill: #1967D2;\n",
              "      height: 32px;\n",
              "      padding: 0 0 0 0;\n",
              "      width: 32px;\n",
              "    }\n",
              "\n",
              "    .colab-df-convert:hover {\n",
              "      background-color: #E2EBFA;\n",
              "      box-shadow: 0px 1px 2px rgba(60, 64, 67, 0.3), 0px 1px 3px 1px rgba(60, 64, 67, 0.15);\n",
              "      fill: #174EA6;\n",
              "    }\n",
              "\n",
              "    [theme=dark] .colab-df-convert {\n",
              "      background-color: #3B4455;\n",
              "      fill: #D2E3FC;\n",
              "    }\n",
              "\n",
              "    [theme=dark] .colab-df-convert:hover {\n",
              "      background-color: #434B5C;\n",
              "      box-shadow: 0px 1px 3px 1px rgba(0, 0, 0, 0.15);\n",
              "      filter: drop-shadow(0px 1px 2px rgba(0, 0, 0, 0.3));\n",
              "      fill: #FFFFFF;\n",
              "    }\n",
              "  </style>\n",
              "\n",
              "      <script>\n",
              "        const buttonEl =\n",
              "          document.querySelector('#df-65e06b2b-b304-4079-b744-0bbc96f02455 button.colab-df-convert');\n",
              "        buttonEl.style.display =\n",
              "          google.colab.kernel.accessAllowed ? 'block' : 'none';\n",
              "\n",
              "        async function convertToInteractive(key) {\n",
              "          const element = document.querySelector('#df-65e06b2b-b304-4079-b744-0bbc96f02455');\n",
              "          const dataTable =\n",
              "            await google.colab.kernel.invokeFunction('convertToInteractive',\n",
              "                                                     [key], {});\n",
              "          if (!dataTable) return;\n",
              "\n",
              "          const docLinkHtml = 'Like what you see? Visit the ' +\n",
              "            '<a target=\"_blank\" href=https://colab.research.google.com/notebooks/data_table.ipynb>data table notebook</a>'\n",
              "            + ' to learn more about interactive tables.';\n",
              "          element.innerHTML = '';\n",
              "          dataTable['output_type'] = 'display_data';\n",
              "          await google.colab.output.renderOutput(dataTable, element);\n",
              "          const docLink = document.createElement('div');\n",
              "          docLink.innerHTML = docLinkHtml;\n",
              "          element.appendChild(docLink);\n",
              "        }\n",
              "      </script>\n",
              "    </div>\n",
              "  </div>\n",
              "  "
            ],
            "text/plain": [
              "       Country  Year      Status  Life expectancy  Adult Mortality  \\\n",
              "0  Afghanistan  2015  Developing             65.0            263.0   \n",
              "1  Afghanistan  2014  Developing             59.9            271.0   \n",
              "2  Afghanistan  2013  Developing             59.9            268.0   \n",
              "\n",
              "   infant deaths  Alcohol  percentage expenditure  Hepatitis B  Measles   BMI  \\\n",
              "0             62     0.01               71.279624         65.0     1154  19.1   \n",
              "1             64     0.01               73.523582         62.0      492  18.6   \n",
              "2             66     0.01               73.219243         64.0      430  18.1   \n",
              "\n",
              "   under-five deaths  Polio  Total expenditure  Diphtheria  HIV/AIDS  \\\n",
              "0                 83    6.0               8.16        65.0       0.1   \n",
              "1                 86   58.0               8.18        62.0       0.1   \n",
              "2                 89   62.0               8.13        64.0       0.1   \n",
              "\n",
              "          GDP  Population  thinness  1-19 years  thinness 5-9 years  \\\n",
              "0  584.259210  33736494.0                  17.2                17.3   \n",
              "1  612.696514    327582.0                  17.5                17.5   \n",
              "2  631.744976  31731688.0                  17.7                17.7   \n",
              "\n",
              "   Income composition of resources  Schooling  \n",
              "0                            0.479       10.1  \n",
              "1                            0.476       10.0  \n",
              "2                            0.470        9.9  "
            ]
          },
          "metadata": {},
          "execution_count": 590
        }
      ],
      "source": [
        "df = pd.read_csv(\"/content/sample_data/Life Expectancy Data.csv\")\n",
        "df.head(3)"
      ]
    },
    {
      "cell_type": "markdown",
      "source": [
        "*View all of the attributes"
      ],
      "metadata": {
        "id": "cakn-YgSR6PY"
      }
    },
    {
      "cell_type": "code",
      "execution_count": 591,
      "metadata": {
        "id": "7NZAyOkiR2PC",
        "colab": {
          "base_uri": "https://localhost:8080/"
        },
        "outputId": "5da5a467-3f7a-4c36-93dc-bd017b1c6b4b"
      },
      "outputs": [
        {
          "output_type": "stream",
          "name": "stdout",
          "text": [
            "['Country', 'Year', 'Status', 'Life expectancy', 'Adult Mortality', 'infant deaths', 'Alcohol', 'percentage expenditure', 'Hepatitis B', 'Measles', 'BMI', 'under-five deaths', 'Polio', 'Total expenditure', 'Diphtheria', 'HIV/AIDS', 'GDP', 'Population', 'thinness  1-19 years', 'thinness 5-9 years', 'Income composition of resources', 'Schooling']\n"
          ]
        }
      ],
      "source": [
        "pd.options.display.max_columns = None\n",
        "pd.options.display.max_rows = None\n",
        "print(df.columns.tolist())"
      ]
    },
    {
      "cell_type": "markdown",
      "source": [
        "*Check the data types of all of the attributes and also the total value counts."
      ],
      "metadata": {
        "id": "xgohOL32R-jF"
      }
    },
    {
      "cell_type": "code",
      "execution_count": 592,
      "metadata": {
        "id": "zSMrTcDhSYtQ",
        "colab": {
          "base_uri": "https://localhost:8080/"
        },
        "outputId": "abf20e9f-003e-4ca9-f553-1c9eab39218c"
      },
      "outputs": [
        {
          "output_type": "stream",
          "name": "stdout",
          "text": [
            "<class 'pandas.core.frame.DataFrame'>\n",
            "RangeIndex: 2938 entries, 0 to 2937\n",
            "Data columns (total 22 columns):\n",
            " #   Column                           Non-Null Count  Dtype  \n",
            "---  ------                           --------------  -----  \n",
            " 0   Country                          2938 non-null   object \n",
            " 1   Year                             2938 non-null   int64  \n",
            " 2   Status                           2938 non-null   object \n",
            " 3   Life expectancy                  2927 non-null   float64\n",
            " 4   Adult Mortality                  2928 non-null   float64\n",
            " 5   infant deaths                    2938 non-null   int64  \n",
            " 6   Alcohol                          2744 non-null   float64\n",
            " 7   percentage expenditure           2938 non-null   float64\n",
            " 8   Hepatitis B                      2385 non-null   float64\n",
            " 9   Measles                          2938 non-null   int64  \n",
            " 10  BMI                              2904 non-null   float64\n",
            " 11  under-five deaths                2938 non-null   int64  \n",
            " 12  Polio                            2919 non-null   float64\n",
            " 13  Total expenditure                2712 non-null   float64\n",
            " 14  Diphtheria                       2919 non-null   float64\n",
            " 15  HIV/AIDS                         2938 non-null   float64\n",
            " 16  GDP                              2490 non-null   float64\n",
            " 17  Population                       2286 non-null   float64\n",
            " 18  thinness  1-19 years             2904 non-null   float64\n",
            " 19  thinness 5-9 years               2904 non-null   float64\n",
            " 20  Income composition of resources  2771 non-null   float64\n",
            " 21  Schooling                        2775 non-null   float64\n",
            "dtypes: float64(16), int64(4), object(2)\n",
            "memory usage: 505.1+ KB\n"
          ]
        }
      ],
      "source": [
        "df.info()"
      ]
    },
    {
      "cell_type": "markdown",
      "source": [
        "*convert the features below to 'category' data types"
      ],
      "metadata": {
        "id": "zs1EFUD2SLmN"
      }
    },
    {
      "cell_type": "code",
      "execution_count": 593,
      "metadata": {
        "id": "Qd_cbsBYHFod"
      },
      "outputs": [],
      "source": [
        "df = df.astype({'Country' : 'category', 'Status': 'category'})"
      ]
    },
    {
      "cell_type": "markdown",
      "source": [
        "*rename the attributes for easy identification "
      ],
      "metadata": {
        "id": "fJZxoOueSllC"
      }
    },
    {
      "cell_type": "code",
      "execution_count": 594,
      "metadata": {
        "id": "1lRXNeLFH1Ep",
        "colab": {
          "base_uri": "https://localhost:8080/"
        },
        "outputId": "e2763802-3ea2-4497-893c-aa872c690ca4"
      },
      "outputs": [
        {
          "output_type": "stream",
          "name": "stdout",
          "text": [
            "<class 'pandas.core.frame.DataFrame'>\n",
            "RangeIndex: 2938 entries, 0 to 2937\n",
            "Data columns (total 22 columns):\n",
            " #   Column                           Non-Null Count  Dtype   \n",
            "---  ------                           --------------  -----   \n",
            " 0   country                          2938 non-null   category\n",
            " 1   year                             2938 non-null   int64   \n",
            " 2   status                           2938 non-null   category\n",
            " 3   life_expectancy                  2927 non-null   float64 \n",
            " 4   adult_mortality                  2928 non-null   float64 \n",
            " 5   infant_deaths                    2938 non-null   int64   \n",
            " 6   alcohol                          2744 non-null   float64 \n",
            " 7   percentage_expenditure           2938 non-null   float64 \n",
            " 8   hepatitis_b                      2385 non-null   float64 \n",
            " 9   measles                          2938 non-null   int64   \n",
            " 10  bmi                              2904 non-null   float64 \n",
            " 11  under_five_deaths                2938 non-null   int64   \n",
            " 12  polio                            2919 non-null   float64 \n",
            " 13  total_expenditure                2712 non-null   float64 \n",
            " 14  diphtheria                       2919 non-null   float64 \n",
            " 15  hiv/aids                         2938 non-null   float64 \n",
            " 16  gdp                              2490 non-null   float64 \n",
            " 17  population                       2286 non-null   float64 \n",
            " 18  thinness_1-19_years              2904 non-null   float64 \n",
            " 19  thinness_5-9_years               2904 non-null   float64 \n",
            " 20  income_composition_of_resources  2771 non-null   float64 \n",
            " 21  schooling                        2775 non-null   float64 \n",
            "dtypes: category(2), float64(16), int64(4)\n",
            "memory usage: 473.5 KB\n"
          ]
        }
      ],
      "source": [
        "df = df.rename(columns = {'Country':'country', 'Year':'year', 'Status':'status', 'Life expectancy': 'life_expectancy', 'Adult Mortality':'adult_mortality', 'infant deaths':'infant_deaths', 'Alcohol':'alcohol', 'percentage expenditure':'percentage_expenditure', 'Hepatitis B':'hepatitis_b', 'Measles':'measles','BMI':'bmi', 'under-five deaths':'under_five_deaths', 'Polio':'polio', 'Total expenditure':'total_expenditure', 'Diphtheria':'diphtheria', 'HIV/AIDS':'hiv/aids', 'GDP':'gdp', 'Population':'population', 'thinness  1-19 years':'thinness_1-19_years', 'thinness 5-9 years':'thinness_5-9_years', 'Income composition of resources':'income_composition_of_resources', 'Schooling':'schooling'}, inplace=False)\n",
        "df.info()"
      ]
    },
    {
      "cell_type": "markdown",
      "source": [
        "*check for percentage of missing values for each attributes"
      ],
      "metadata": {
        "id": "4dWqVS1RS77U"
      }
    },
    {
      "cell_type": "code",
      "execution_count": 595,
      "metadata": {
        "id": "NkZGoJcuL5Jk",
        "colab": {
          "base_uri": "https://localhost:8080/",
          "height": 739
        },
        "outputId": "266717db-db01-4d18-f08b-d0a88fd13f2f"
      },
      "outputs": [
        {
          "output_type": "execute_result",
          "data": {
            "text/html": [
              "\n",
              "  <div id=\"df-ebdb8d97-ff38-444d-bb0a-eba626912826\">\n",
              "    <div class=\"colab-df-container\">\n",
              "      <div>\n",
              "<style scoped>\n",
              "    .dataframe tbody tr th:only-of-type {\n",
              "        vertical-align: middle;\n",
              "    }\n",
              "\n",
              "    .dataframe tbody tr th {\n",
              "        vertical-align: top;\n",
              "    }\n",
              "\n",
              "    .dataframe thead th {\n",
              "        text-align: right;\n",
              "    }\n",
              "</style>\n",
              "<table border=\"1\" class=\"dataframe\">\n",
              "  <thead>\n",
              "    <tr style=\"text-align: right;\">\n",
              "      <th></th>\n",
              "      <th>total_missing</th>\n",
              "      <th>percentage_missing</th>\n",
              "    </tr>\n",
              "  </thead>\n",
              "  <tbody>\n",
              "    <tr>\n",
              "      <th>country</th>\n",
              "      <td>0</td>\n",
              "      <td>0.000000</td>\n",
              "    </tr>\n",
              "    <tr>\n",
              "      <th>year</th>\n",
              "      <td>0</td>\n",
              "      <td>0.000000</td>\n",
              "    </tr>\n",
              "    <tr>\n",
              "      <th>status</th>\n",
              "      <td>0</td>\n",
              "      <td>0.000000</td>\n",
              "    </tr>\n",
              "    <tr>\n",
              "      <th>life_expectancy</th>\n",
              "      <td>11</td>\n",
              "      <td>0.374404</td>\n",
              "    </tr>\n",
              "    <tr>\n",
              "      <th>adult_mortality</th>\n",
              "      <td>10</td>\n",
              "      <td>0.340368</td>\n",
              "    </tr>\n",
              "    <tr>\n",
              "      <th>infant_deaths</th>\n",
              "      <td>0</td>\n",
              "      <td>0.000000</td>\n",
              "    </tr>\n",
              "    <tr>\n",
              "      <th>alcohol</th>\n",
              "      <td>194</td>\n",
              "      <td>6.603131</td>\n",
              "    </tr>\n",
              "    <tr>\n",
              "      <th>percentage_expenditure</th>\n",
              "      <td>0</td>\n",
              "      <td>0.000000</td>\n",
              "    </tr>\n",
              "    <tr>\n",
              "      <th>hepatitis_b</th>\n",
              "      <td>553</td>\n",
              "      <td>18.822328</td>\n",
              "    </tr>\n",
              "    <tr>\n",
              "      <th>measles</th>\n",
              "      <td>0</td>\n",
              "      <td>0.000000</td>\n",
              "    </tr>\n",
              "    <tr>\n",
              "      <th>bmi</th>\n",
              "      <td>34</td>\n",
              "      <td>1.157250</td>\n",
              "    </tr>\n",
              "    <tr>\n",
              "      <th>under_five_deaths</th>\n",
              "      <td>0</td>\n",
              "      <td>0.000000</td>\n",
              "    </tr>\n",
              "    <tr>\n",
              "      <th>polio</th>\n",
              "      <td>19</td>\n",
              "      <td>0.646698</td>\n",
              "    </tr>\n",
              "    <tr>\n",
              "      <th>total_expenditure</th>\n",
              "      <td>226</td>\n",
              "      <td>7.692308</td>\n",
              "    </tr>\n",
              "    <tr>\n",
              "      <th>diphtheria</th>\n",
              "      <td>19</td>\n",
              "      <td>0.646698</td>\n",
              "    </tr>\n",
              "    <tr>\n",
              "      <th>hiv/aids</th>\n",
              "      <td>0</td>\n",
              "      <td>0.000000</td>\n",
              "    </tr>\n",
              "    <tr>\n",
              "      <th>gdp</th>\n",
              "      <td>448</td>\n",
              "      <td>15.248468</td>\n",
              "    </tr>\n",
              "    <tr>\n",
              "      <th>population</th>\n",
              "      <td>652</td>\n",
              "      <td>22.191967</td>\n",
              "    </tr>\n",
              "    <tr>\n",
              "      <th>thinness_1-19_years</th>\n",
              "      <td>34</td>\n",
              "      <td>1.157250</td>\n",
              "    </tr>\n",
              "    <tr>\n",
              "      <th>thinness_5-9_years</th>\n",
              "      <td>34</td>\n",
              "      <td>1.157250</td>\n",
              "    </tr>\n",
              "    <tr>\n",
              "      <th>income_composition_of_resources</th>\n",
              "      <td>167</td>\n",
              "      <td>5.684139</td>\n",
              "    </tr>\n",
              "    <tr>\n",
              "      <th>schooling</th>\n",
              "      <td>163</td>\n",
              "      <td>5.547992</td>\n",
              "    </tr>\n",
              "  </tbody>\n",
              "</table>\n",
              "</div>\n",
              "      <button class=\"colab-df-convert\" onclick=\"convertToInteractive('df-ebdb8d97-ff38-444d-bb0a-eba626912826')\"\n",
              "              title=\"Convert this dataframe to an interactive table.\"\n",
              "              style=\"display:none;\">\n",
              "        \n",
              "  <svg xmlns=\"http://www.w3.org/2000/svg\" height=\"24px\"viewBox=\"0 0 24 24\"\n",
              "       width=\"24px\">\n",
              "    <path d=\"M0 0h24v24H0V0z\" fill=\"none\"/>\n",
              "    <path d=\"M18.56 5.44l.94 2.06.94-2.06 2.06-.94-2.06-.94-.94-2.06-.94 2.06-2.06.94zm-11 1L8.5 8.5l.94-2.06 2.06-.94-2.06-.94L8.5 2.5l-.94 2.06-2.06.94zm10 10l.94 2.06.94-2.06 2.06-.94-2.06-.94-.94-2.06-.94 2.06-2.06.94z\"/><path d=\"M17.41 7.96l-1.37-1.37c-.4-.4-.92-.59-1.43-.59-.52 0-1.04.2-1.43.59L10.3 9.45l-7.72 7.72c-.78.78-.78 2.05 0 2.83L4 21.41c.39.39.9.59 1.41.59.51 0 1.02-.2 1.41-.59l7.78-7.78 2.81-2.81c.8-.78.8-2.07 0-2.86zM5.41 20L4 18.59l7.72-7.72 1.47 1.35L5.41 20z\"/>\n",
              "  </svg>\n",
              "      </button>\n",
              "      \n",
              "  <style>\n",
              "    .colab-df-container {\n",
              "      display:flex;\n",
              "      flex-wrap:wrap;\n",
              "      gap: 12px;\n",
              "    }\n",
              "\n",
              "    .colab-df-convert {\n",
              "      background-color: #E8F0FE;\n",
              "      border: none;\n",
              "      border-radius: 50%;\n",
              "      cursor: pointer;\n",
              "      display: none;\n",
              "      fill: #1967D2;\n",
              "      height: 32px;\n",
              "      padding: 0 0 0 0;\n",
              "      width: 32px;\n",
              "    }\n",
              "\n",
              "    .colab-df-convert:hover {\n",
              "      background-color: #E2EBFA;\n",
              "      box-shadow: 0px 1px 2px rgba(60, 64, 67, 0.3), 0px 1px 3px 1px rgba(60, 64, 67, 0.15);\n",
              "      fill: #174EA6;\n",
              "    }\n",
              "\n",
              "    [theme=dark] .colab-df-convert {\n",
              "      background-color: #3B4455;\n",
              "      fill: #D2E3FC;\n",
              "    }\n",
              "\n",
              "    [theme=dark] .colab-df-convert:hover {\n",
              "      background-color: #434B5C;\n",
              "      box-shadow: 0px 1px 3px 1px rgba(0, 0, 0, 0.15);\n",
              "      filter: drop-shadow(0px 1px 2px rgba(0, 0, 0, 0.3));\n",
              "      fill: #FFFFFF;\n",
              "    }\n",
              "  </style>\n",
              "\n",
              "      <script>\n",
              "        const buttonEl =\n",
              "          document.querySelector('#df-ebdb8d97-ff38-444d-bb0a-eba626912826 button.colab-df-convert');\n",
              "        buttonEl.style.display =\n",
              "          google.colab.kernel.accessAllowed ? 'block' : 'none';\n",
              "\n",
              "        async function convertToInteractive(key) {\n",
              "          const element = document.querySelector('#df-ebdb8d97-ff38-444d-bb0a-eba626912826');\n",
              "          const dataTable =\n",
              "            await google.colab.kernel.invokeFunction('convertToInteractive',\n",
              "                                                     [key], {});\n",
              "          if (!dataTable) return;\n",
              "\n",
              "          const docLinkHtml = 'Like what you see? Visit the ' +\n",
              "            '<a target=\"_blank\" href=https://colab.research.google.com/notebooks/data_table.ipynb>data table notebook</a>'\n",
              "            + ' to learn more about interactive tables.';\n",
              "          element.innerHTML = '';\n",
              "          dataTable['output_type'] = 'display_data';\n",
              "          await google.colab.output.renderOutput(dataTable, element);\n",
              "          const docLink = document.createElement('div');\n",
              "          docLink.innerHTML = docLinkHtml;\n",
              "          element.appendChild(docLink);\n",
              "        }\n",
              "      </script>\n",
              "    </div>\n",
              "  </div>\n",
              "  "
            ],
            "text/plain": [
              "                                 total_missing  percentage_missing\n",
              "country                                      0            0.000000\n",
              "year                                         0            0.000000\n",
              "status                                       0            0.000000\n",
              "life_expectancy                             11            0.374404\n",
              "adult_mortality                             10            0.340368\n",
              "infant_deaths                                0            0.000000\n",
              "alcohol                                    194            6.603131\n",
              "percentage_expenditure                       0            0.000000\n",
              "hepatitis_b                                553           18.822328\n",
              "measles                                      0            0.000000\n",
              "bmi                                         34            1.157250\n",
              "under_five_deaths                            0            0.000000\n",
              "polio                                       19            0.646698\n",
              "total_expenditure                          226            7.692308\n",
              "diphtheria                                  19            0.646698\n",
              "hiv/aids                                     0            0.000000\n",
              "gdp                                        448           15.248468\n",
              "population                                 652           22.191967\n",
              "thinness_1-19_years                         34            1.157250\n",
              "thinness_5-9_years                          34            1.157250\n",
              "income_composition_of_resources            167            5.684139\n",
              "schooling                                  163            5.547992"
            ]
          },
          "metadata": {},
          "execution_count": 595
        }
      ],
      "source": [
        "missing_data = pd.DataFrame({'total_missing': df.isnull().sum(),\n",
        "                             'percentage_missing': df.isnull().sum()/2938 * 100})\n",
        "missing_data"
      ]
    },
    {
      "cell_type": "markdown",
      "source": [
        "*Fill the missing and null values with the median"
      ],
      "metadata": {
        "id": "rk3dB0iDTF7x"
      }
    },
    {
      "cell_type": "code",
      "execution_count": 596,
      "metadata": {
        "id": "SNv3R8FeOJLB",
        "colab": {
          "base_uri": "https://localhost:8080/",
          "height": 193
        },
        "outputId": "75447ba9-9c52-47d0-84b1-b4b29be16768"
      },
      "outputs": [
        {
          "output_type": "execute_result",
          "data": {
            "text/html": [
              "\n",
              "  <div id=\"df-84399718-103e-468d-8ad1-9ab87d043f8d\">\n",
              "    <div class=\"colab-df-container\">\n",
              "      <div>\n",
              "<style scoped>\n",
              "    .dataframe tbody tr th:only-of-type {\n",
              "        vertical-align: middle;\n",
              "    }\n",
              "\n",
              "    .dataframe tbody tr th {\n",
              "        vertical-align: top;\n",
              "    }\n",
              "\n",
              "    .dataframe thead th {\n",
              "        text-align: right;\n",
              "    }\n",
              "</style>\n",
              "<table border=\"1\" class=\"dataframe\">\n",
              "  <thead>\n",
              "    <tr style=\"text-align: right;\">\n",
              "      <th></th>\n",
              "      <th>country</th>\n",
              "      <th>year</th>\n",
              "      <th>status</th>\n",
              "      <th>life_expectancy</th>\n",
              "      <th>adult_mortality</th>\n",
              "      <th>infant_deaths</th>\n",
              "      <th>alcohol</th>\n",
              "      <th>percentage_expenditure</th>\n",
              "      <th>hepatitis_b</th>\n",
              "      <th>measles</th>\n",
              "      <th>bmi</th>\n",
              "      <th>under_five_deaths</th>\n",
              "      <th>polio</th>\n",
              "      <th>total_expenditure</th>\n",
              "      <th>diphtheria</th>\n",
              "      <th>hiv/aids</th>\n",
              "      <th>gdp</th>\n",
              "      <th>population</th>\n",
              "      <th>thinness_1-19_years</th>\n",
              "      <th>thinness_5-9_years</th>\n",
              "      <th>income_composition_of_resources</th>\n",
              "      <th>schooling</th>\n",
              "    </tr>\n",
              "  </thead>\n",
              "  <tbody>\n",
              "    <tr>\n",
              "      <th>0</th>\n",
              "      <td>Afghanistan</td>\n",
              "      <td>2015</td>\n",
              "      <td>Developing</td>\n",
              "      <td>65.0</td>\n",
              "      <td>263.0</td>\n",
              "      <td>62</td>\n",
              "      <td>0.01</td>\n",
              "      <td>71.279624</td>\n",
              "      <td>65.0</td>\n",
              "      <td>1154</td>\n",
              "      <td>19.1</td>\n",
              "      <td>83</td>\n",
              "      <td>6.0</td>\n",
              "      <td>8.16</td>\n",
              "      <td>65.0</td>\n",
              "      <td>0.1</td>\n",
              "      <td>584.259210</td>\n",
              "      <td>33736494.0</td>\n",
              "      <td>17.2</td>\n",
              "      <td>17.3</td>\n",
              "      <td>0.479</td>\n",
              "      <td>10.1</td>\n",
              "    </tr>\n",
              "    <tr>\n",
              "      <th>1</th>\n",
              "      <td>Afghanistan</td>\n",
              "      <td>2014</td>\n",
              "      <td>Developing</td>\n",
              "      <td>59.9</td>\n",
              "      <td>271.0</td>\n",
              "      <td>64</td>\n",
              "      <td>0.01</td>\n",
              "      <td>73.523582</td>\n",
              "      <td>62.0</td>\n",
              "      <td>492</td>\n",
              "      <td>18.6</td>\n",
              "      <td>86</td>\n",
              "      <td>58.0</td>\n",
              "      <td>8.18</td>\n",
              "      <td>62.0</td>\n",
              "      <td>0.1</td>\n",
              "      <td>612.696514</td>\n",
              "      <td>327582.0</td>\n",
              "      <td>17.5</td>\n",
              "      <td>17.5</td>\n",
              "      <td>0.476</td>\n",
              "      <td>10.0</td>\n",
              "    </tr>\n",
              "  </tbody>\n",
              "</table>\n",
              "</div>\n",
              "      <button class=\"colab-df-convert\" onclick=\"convertToInteractive('df-84399718-103e-468d-8ad1-9ab87d043f8d')\"\n",
              "              title=\"Convert this dataframe to an interactive table.\"\n",
              "              style=\"display:none;\">\n",
              "        \n",
              "  <svg xmlns=\"http://www.w3.org/2000/svg\" height=\"24px\"viewBox=\"0 0 24 24\"\n",
              "       width=\"24px\">\n",
              "    <path d=\"M0 0h24v24H0V0z\" fill=\"none\"/>\n",
              "    <path d=\"M18.56 5.44l.94 2.06.94-2.06 2.06-.94-2.06-.94-.94-2.06-.94 2.06-2.06.94zm-11 1L8.5 8.5l.94-2.06 2.06-.94-2.06-.94L8.5 2.5l-.94 2.06-2.06.94zm10 10l.94 2.06.94-2.06 2.06-.94-2.06-.94-.94-2.06-.94 2.06-2.06.94z\"/><path d=\"M17.41 7.96l-1.37-1.37c-.4-.4-.92-.59-1.43-.59-.52 0-1.04.2-1.43.59L10.3 9.45l-7.72 7.72c-.78.78-.78 2.05 0 2.83L4 21.41c.39.39.9.59 1.41.59.51 0 1.02-.2 1.41-.59l7.78-7.78 2.81-2.81c.8-.78.8-2.07 0-2.86zM5.41 20L4 18.59l7.72-7.72 1.47 1.35L5.41 20z\"/>\n",
              "  </svg>\n",
              "      </button>\n",
              "      \n",
              "  <style>\n",
              "    .colab-df-container {\n",
              "      display:flex;\n",
              "      flex-wrap:wrap;\n",
              "      gap: 12px;\n",
              "    }\n",
              "\n",
              "    .colab-df-convert {\n",
              "      background-color: #E8F0FE;\n",
              "      border: none;\n",
              "      border-radius: 50%;\n",
              "      cursor: pointer;\n",
              "      display: none;\n",
              "      fill: #1967D2;\n",
              "      height: 32px;\n",
              "      padding: 0 0 0 0;\n",
              "      width: 32px;\n",
              "    }\n",
              "\n",
              "    .colab-df-convert:hover {\n",
              "      background-color: #E2EBFA;\n",
              "      box-shadow: 0px 1px 2px rgba(60, 64, 67, 0.3), 0px 1px 3px 1px rgba(60, 64, 67, 0.15);\n",
              "      fill: #174EA6;\n",
              "    }\n",
              "\n",
              "    [theme=dark] .colab-df-convert {\n",
              "      background-color: #3B4455;\n",
              "      fill: #D2E3FC;\n",
              "    }\n",
              "\n",
              "    [theme=dark] .colab-df-convert:hover {\n",
              "      background-color: #434B5C;\n",
              "      box-shadow: 0px 1px 3px 1px rgba(0, 0, 0, 0.15);\n",
              "      filter: drop-shadow(0px 1px 2px rgba(0, 0, 0, 0.3));\n",
              "      fill: #FFFFFF;\n",
              "    }\n",
              "  </style>\n",
              "\n",
              "      <script>\n",
              "        const buttonEl =\n",
              "          document.querySelector('#df-84399718-103e-468d-8ad1-9ab87d043f8d button.colab-df-convert');\n",
              "        buttonEl.style.display =\n",
              "          google.colab.kernel.accessAllowed ? 'block' : 'none';\n",
              "\n",
              "        async function convertToInteractive(key) {\n",
              "          const element = document.querySelector('#df-84399718-103e-468d-8ad1-9ab87d043f8d');\n",
              "          const dataTable =\n",
              "            await google.colab.kernel.invokeFunction('convertToInteractive',\n",
              "                                                     [key], {});\n",
              "          if (!dataTable) return;\n",
              "\n",
              "          const docLinkHtml = 'Like what you see? Visit the ' +\n",
              "            '<a target=\"_blank\" href=https://colab.research.google.com/notebooks/data_table.ipynb>data table notebook</a>'\n",
              "            + ' to learn more about interactive tables.';\n",
              "          element.innerHTML = '';\n",
              "          dataTable['output_type'] = 'display_data';\n",
              "          await google.colab.output.renderOutput(dataTable, element);\n",
              "          const docLink = document.createElement('div');\n",
              "          docLink.innerHTML = docLinkHtml;\n",
              "          element.appendChild(docLink);\n",
              "        }\n",
              "      </script>\n",
              "    </div>\n",
              "  </div>\n",
              "  "
            ],
            "text/plain": [
              "       country  year      status  life_expectancy  adult_mortality  \\\n",
              "0  Afghanistan  2015  Developing             65.0            263.0   \n",
              "1  Afghanistan  2014  Developing             59.9            271.0   \n",
              "\n",
              "   infant_deaths  alcohol  percentage_expenditure  hepatitis_b  measles   bmi  \\\n",
              "0             62     0.01               71.279624         65.0     1154  19.1   \n",
              "1             64     0.01               73.523582         62.0      492  18.6   \n",
              "\n",
              "   under_five_deaths  polio  total_expenditure  diphtheria  hiv/aids  \\\n",
              "0                 83    6.0               8.16        65.0       0.1   \n",
              "1                 86   58.0               8.18        62.0       0.1   \n",
              "\n",
              "          gdp  population  thinness_1-19_years  thinness_5-9_years  \\\n",
              "0  584.259210  33736494.0                 17.2                17.3   \n",
              "1  612.696514    327582.0                 17.5                17.5   \n",
              "\n",
              "   income_composition_of_resources  schooling  \n",
              "0                            0.479       10.1  \n",
              "1                            0.476       10.0  "
            ]
          },
          "metadata": {},
          "execution_count": 596
        }
      ],
      "source": [
        "median_imputer = MeanMedianImputer(imputation_method = 'median', variables=['adult_mortality', 'infant_deaths', 'alcohol', 'percentage_expenditure', 'hepatitis_b', 'measles', 'bmi', 'under_five_deaths', 'polio', 'total_expenditure', 'diphtheria', 'hiv/aids', 'gdp', 'population', 'thinness_1-19_years', 'thinness_5-9_years', 'income_composition_of_resources', 'schooling', 'life_expectancy'])\n",
        "new_dataset = median_imputer.fit(df)\n",
        "new_dataset = median_imputer.transform(df)\n",
        "new_dataset.head(2)"
      ]
    },
    {
      "cell_type": "markdown",
      "source": [
        "*Create a new feature 'total population' and also drop the features below"
      ],
      "metadata": {
        "id": "BIOJwfegTSD-"
      }
    },
    {
      "cell_type": "code",
      "execution_count": 597,
      "metadata": {
        "id": "ObBvG4QS7ibN",
        "colab": {
          "base_uri": "https://localhost:8080/",
          "height": 193
        },
        "outputId": "ee24c553-8eab-4c1e-9b76-770cefa69913"
      },
      "outputs": [
        {
          "output_type": "execute_result",
          "data": {
            "text/html": [
              "\n",
              "  <div id=\"df-3091e2da-3392-4509-a2d9-16cef4be3d1e\">\n",
              "    <div class=\"colab-df-container\">\n",
              "      <div>\n",
              "<style scoped>\n",
              "    .dataframe tbody tr th:only-of-type {\n",
              "        vertical-align: middle;\n",
              "    }\n",
              "\n",
              "    .dataframe tbody tr th {\n",
              "        vertical-align: top;\n",
              "    }\n",
              "\n",
              "    .dataframe thead th {\n",
              "        text-align: right;\n",
              "    }\n",
              "</style>\n",
              "<table border=\"1\" class=\"dataframe\">\n",
              "  <thead>\n",
              "    <tr style=\"text-align: right;\">\n",
              "      <th></th>\n",
              "      <th>country</th>\n",
              "      <th>year</th>\n",
              "      <th>status</th>\n",
              "      <th>life_expectancy</th>\n",
              "      <th>alcohol</th>\n",
              "      <th>percentage_expenditure</th>\n",
              "      <th>hepatitis_b</th>\n",
              "      <th>measles</th>\n",
              "      <th>bmi</th>\n",
              "      <th>under_five_deaths</th>\n",
              "      <th>polio</th>\n",
              "      <th>total_expenditure</th>\n",
              "      <th>diphtheria</th>\n",
              "      <th>hiv/aids</th>\n",
              "      <th>gdp</th>\n",
              "      <th>thinness_1-19_years</th>\n",
              "      <th>thinness_5-9_years</th>\n",
              "      <th>income_composition_of_resources</th>\n",
              "      <th>schooling</th>\n",
              "      <th>total_population</th>\n",
              "    </tr>\n",
              "  </thead>\n",
              "  <tbody>\n",
              "    <tr>\n",
              "      <th>0</th>\n",
              "      <td>Afghanistan</td>\n",
              "      <td>2015</td>\n",
              "      <td>Developing</td>\n",
              "      <td>65.0</td>\n",
              "      <td>0.01</td>\n",
              "      <td>71.279624</td>\n",
              "      <td>65.0</td>\n",
              "      <td>1154</td>\n",
              "      <td>19.1</td>\n",
              "      <td>83</td>\n",
              "      <td>6.0</td>\n",
              "      <td>8.16</td>\n",
              "      <td>65.0</td>\n",
              "      <td>0.1</td>\n",
              "      <td>584.259210</td>\n",
              "      <td>17.2</td>\n",
              "      <td>17.3</td>\n",
              "      <td>0.479</td>\n",
              "      <td>10.1</td>\n",
              "      <td>33736169.0</td>\n",
              "    </tr>\n",
              "    <tr>\n",
              "      <th>1</th>\n",
              "      <td>Afghanistan</td>\n",
              "      <td>2014</td>\n",
              "      <td>Developing</td>\n",
              "      <td>59.9</td>\n",
              "      <td>0.01</td>\n",
              "      <td>73.523582</td>\n",
              "      <td>62.0</td>\n",
              "      <td>492</td>\n",
              "      <td>18.6</td>\n",
              "      <td>86</td>\n",
              "      <td>58.0</td>\n",
              "      <td>8.18</td>\n",
              "      <td>62.0</td>\n",
              "      <td>0.1</td>\n",
              "      <td>612.696514</td>\n",
              "      <td>17.5</td>\n",
              "      <td>17.5</td>\n",
              "      <td>0.476</td>\n",
              "      <td>10.0</td>\n",
              "      <td>327247.0</td>\n",
              "    </tr>\n",
              "  </tbody>\n",
              "</table>\n",
              "</div>\n",
              "      <button class=\"colab-df-convert\" onclick=\"convertToInteractive('df-3091e2da-3392-4509-a2d9-16cef4be3d1e')\"\n",
              "              title=\"Convert this dataframe to an interactive table.\"\n",
              "              style=\"display:none;\">\n",
              "        \n",
              "  <svg xmlns=\"http://www.w3.org/2000/svg\" height=\"24px\"viewBox=\"0 0 24 24\"\n",
              "       width=\"24px\">\n",
              "    <path d=\"M0 0h24v24H0V0z\" fill=\"none\"/>\n",
              "    <path d=\"M18.56 5.44l.94 2.06.94-2.06 2.06-.94-2.06-.94-.94-2.06-.94 2.06-2.06.94zm-11 1L8.5 8.5l.94-2.06 2.06-.94-2.06-.94L8.5 2.5l-.94 2.06-2.06.94zm10 10l.94 2.06.94-2.06 2.06-.94-2.06-.94-.94-2.06-.94 2.06-2.06.94z\"/><path d=\"M17.41 7.96l-1.37-1.37c-.4-.4-.92-.59-1.43-.59-.52 0-1.04.2-1.43.59L10.3 9.45l-7.72 7.72c-.78.78-.78 2.05 0 2.83L4 21.41c.39.39.9.59 1.41.59.51 0 1.02-.2 1.41-.59l7.78-7.78 2.81-2.81c.8-.78.8-2.07 0-2.86zM5.41 20L4 18.59l7.72-7.72 1.47 1.35L5.41 20z\"/>\n",
              "  </svg>\n",
              "      </button>\n",
              "      \n",
              "  <style>\n",
              "    .colab-df-container {\n",
              "      display:flex;\n",
              "      flex-wrap:wrap;\n",
              "      gap: 12px;\n",
              "    }\n",
              "\n",
              "    .colab-df-convert {\n",
              "      background-color: #E8F0FE;\n",
              "      border: none;\n",
              "      border-radius: 50%;\n",
              "      cursor: pointer;\n",
              "      display: none;\n",
              "      fill: #1967D2;\n",
              "      height: 32px;\n",
              "      padding: 0 0 0 0;\n",
              "      width: 32px;\n",
              "    }\n",
              "\n",
              "    .colab-df-convert:hover {\n",
              "      background-color: #E2EBFA;\n",
              "      box-shadow: 0px 1px 2px rgba(60, 64, 67, 0.3), 0px 1px 3px 1px rgba(60, 64, 67, 0.15);\n",
              "      fill: #174EA6;\n",
              "    }\n",
              "\n",
              "    [theme=dark] .colab-df-convert {\n",
              "      background-color: #3B4455;\n",
              "      fill: #D2E3FC;\n",
              "    }\n",
              "\n",
              "    [theme=dark] .colab-df-convert:hover {\n",
              "      background-color: #434B5C;\n",
              "      box-shadow: 0px 1px 3px 1px rgba(0, 0, 0, 0.15);\n",
              "      filter: drop-shadow(0px 1px 2px rgba(0, 0, 0, 0.3));\n",
              "      fill: #FFFFFF;\n",
              "    }\n",
              "  </style>\n",
              "\n",
              "      <script>\n",
              "        const buttonEl =\n",
              "          document.querySelector('#df-3091e2da-3392-4509-a2d9-16cef4be3d1e button.colab-df-convert');\n",
              "        buttonEl.style.display =\n",
              "          google.colab.kernel.accessAllowed ? 'block' : 'none';\n",
              "\n",
              "        async function convertToInteractive(key) {\n",
              "          const element = document.querySelector('#df-3091e2da-3392-4509-a2d9-16cef4be3d1e');\n",
              "          const dataTable =\n",
              "            await google.colab.kernel.invokeFunction('convertToInteractive',\n",
              "                                                     [key], {});\n",
              "          if (!dataTable) return;\n",
              "\n",
              "          const docLinkHtml = 'Like what you see? Visit the ' +\n",
              "            '<a target=\"_blank\" href=https://colab.research.google.com/notebooks/data_table.ipynb>data table notebook</a>'\n",
              "            + ' to learn more about interactive tables.';\n",
              "          element.innerHTML = '';\n",
              "          dataTable['output_type'] = 'display_data';\n",
              "          await google.colab.output.renderOutput(dataTable, element);\n",
              "          const docLink = document.createElement('div');\n",
              "          docLink.innerHTML = docLinkHtml;\n",
              "          element.appendChild(docLink);\n",
              "        }\n",
              "      </script>\n",
              "    </div>\n",
              "  </div>\n",
              "  "
            ],
            "text/plain": [
              "       country  year      status  life_expectancy  alcohol  \\\n",
              "0  Afghanistan  2015  Developing             65.0     0.01   \n",
              "1  Afghanistan  2014  Developing             59.9     0.01   \n",
              "\n",
              "   percentage_expenditure  hepatitis_b  measles   bmi  under_five_deaths  \\\n",
              "0               71.279624         65.0     1154  19.1                 83   \n",
              "1               73.523582         62.0      492  18.6                 86   \n",
              "\n",
              "   polio  total_expenditure  diphtheria  hiv/aids         gdp  \\\n",
              "0    6.0               8.16        65.0       0.1  584.259210   \n",
              "1   58.0               8.18        62.0       0.1  612.696514   \n",
              "\n",
              "   thinness_1-19_years  thinness_5-9_years  income_composition_of_resources  \\\n",
              "0                 17.2                17.3                            0.479   \n",
              "1                 17.5                17.5                            0.476   \n",
              "\n",
              "   schooling  total_population  \n",
              "0       10.1        33736169.0  \n",
              "1       10.0          327247.0  "
            ]
          },
          "metadata": {},
          "execution_count": 597
        }
      ],
      "source": [
        "new_dataset['total_population'] = new_dataset['population'] - (new_dataset['adult_mortality'] + new_dataset['infant_deaths'])\n",
        "new_dataset = new_dataset.drop(['adult_mortality', 'infant_deaths', 'population'], axis = 1)\n",
        "new_dataset.head(2)"
      ]
    },
    {
      "cell_type": "markdown",
      "source": [
        "*confirm that the cleaning has been effected"
      ],
      "metadata": {
        "id": "Bja8QERiTd0w"
      }
    },
    {
      "cell_type": "code",
      "execution_count": 598,
      "metadata": {
        "id": "dSFJ8N6Ac4RO",
        "colab": {
          "base_uri": "https://localhost:8080/"
        },
        "outputId": "22f67150-8aff-4be6-f351-809b34792e5a"
      },
      "outputs": [
        {
          "output_type": "stream",
          "name": "stdout",
          "text": [
            "<class 'pandas.core.frame.DataFrame'>\n",
            "RangeIndex: 2938 entries, 0 to 2937\n",
            "Data columns (total 20 columns):\n",
            " #   Column                           Non-Null Count  Dtype   \n",
            "---  ------                           --------------  -----   \n",
            " 0   country                          2938 non-null   category\n",
            " 1   year                             2938 non-null   int64   \n",
            " 2   status                           2938 non-null   category\n",
            " 3   life_expectancy                  2938 non-null   float64 \n",
            " 4   alcohol                          2938 non-null   float64 \n",
            " 5   percentage_expenditure           2938 non-null   float64 \n",
            " 6   hepatitis_b                      2938 non-null   float64 \n",
            " 7   measles                          2938 non-null   int64   \n",
            " 8   bmi                              2938 non-null   float64 \n",
            " 9   under_five_deaths                2938 non-null   int64   \n",
            " 10  polio                            2938 non-null   float64 \n",
            " 11  total_expenditure                2938 non-null   float64 \n",
            " 12  diphtheria                       2938 non-null   float64 \n",
            " 13  hiv/aids                         2938 non-null   float64 \n",
            " 14  gdp                              2938 non-null   float64 \n",
            " 15  thinness_1-19_years              2938 non-null   float64 \n",
            " 16  thinness_5-9_years               2938 non-null   float64 \n",
            " 17  income_composition_of_resources  2938 non-null   float64 \n",
            " 18  schooling                        2938 non-null   float64 \n",
            " 19  total_population                 2938 non-null   float64 \n",
            "dtypes: category(2), float64(15), int64(3)\n",
            "memory usage: 427.6 KB\n"
          ]
        }
      ],
      "source": [
        "new_dataset.info()"
      ]
    },
    {
      "cell_type": "markdown",
      "source": [
        "*Use the five summary to understand the dataset; mean, standard deviation, minimum, 25%, median, 75% and maximum. This is to help us know the variability and distribution of our data points. Also informs the skewness of our data."
      ],
      "metadata": {
        "id": "VJxS6UhJTkyo"
      }
    },
    {
      "cell_type": "code",
      "execution_count": 599,
      "metadata": {
        "id": "KB3zm1qx5OLg",
        "colab": {
          "base_uri": "https://localhost:8080/",
          "height": 382
        },
        "outputId": "3ab05f8a-4b26-4299-c103-eb9b389c759a"
      },
      "outputs": [
        {
          "output_type": "execute_result",
          "data": {
            "text/html": [
              "\n",
              "  <div id=\"df-6a0cd436-5e83-45be-a0f7-67df84104f4b\">\n",
              "    <div class=\"colab-df-container\">\n",
              "      <div>\n",
              "<style scoped>\n",
              "    .dataframe tbody tr th:only-of-type {\n",
              "        vertical-align: middle;\n",
              "    }\n",
              "\n",
              "    .dataframe tbody tr th {\n",
              "        vertical-align: top;\n",
              "    }\n",
              "\n",
              "    .dataframe thead th {\n",
              "        text-align: right;\n",
              "    }\n",
              "</style>\n",
              "<table border=\"1\" class=\"dataframe\">\n",
              "  <thead>\n",
              "    <tr style=\"text-align: right;\">\n",
              "      <th></th>\n",
              "      <th>year</th>\n",
              "      <th>life_expectancy</th>\n",
              "      <th>alcohol</th>\n",
              "      <th>percentage_expenditure</th>\n",
              "      <th>hepatitis_b</th>\n",
              "      <th>measles</th>\n",
              "      <th>bmi</th>\n",
              "      <th>under_five_deaths</th>\n",
              "      <th>polio</th>\n",
              "      <th>total_expenditure</th>\n",
              "      <th>diphtheria</th>\n",
              "      <th>hiv/aids</th>\n",
              "      <th>gdp</th>\n",
              "      <th>thinness_1-19_years</th>\n",
              "      <th>thinness_5-9_years</th>\n",
              "      <th>income_composition_of_resources</th>\n",
              "      <th>schooling</th>\n",
              "      <th>total_population</th>\n",
              "    </tr>\n",
              "  </thead>\n",
              "  <tbody>\n",
              "    <tr>\n",
              "      <th>count</th>\n",
              "      <td>2938.000000</td>\n",
              "      <td>2938.000000</td>\n",
              "      <td>2938.000000</td>\n",
              "      <td>2938.000000</td>\n",
              "      <td>2938.000000</td>\n",
              "      <td>2938.000000</td>\n",
              "      <td>2938.000000</td>\n",
              "      <td>2938.000000</td>\n",
              "      <td>2938.000000</td>\n",
              "      <td>2938.000000</td>\n",
              "      <td>2938.000000</td>\n",
              "      <td>2938.000000</td>\n",
              "      <td>2938.000000</td>\n",
              "      <td>2938.000000</td>\n",
              "      <td>2938.000000</td>\n",
              "      <td>2938.000000</td>\n",
              "      <td>2938.000000</td>\n",
              "      <td>2.938000e+03</td>\n",
              "    </tr>\n",
              "    <tr>\n",
              "      <th>mean</th>\n",
              "      <td>2007.518720</td>\n",
              "      <td>69.239959</td>\n",
              "      <td>4.546875</td>\n",
              "      <td>738.251295</td>\n",
              "      <td>83.022124</td>\n",
              "      <td>2419.592240</td>\n",
              "      <td>38.381178</td>\n",
              "      <td>42.035739</td>\n",
              "      <td>82.617767</td>\n",
              "      <td>5.924098</td>\n",
              "      <td>82.393125</td>\n",
              "      <td>1.742103</td>\n",
              "      <td>6611.523863</td>\n",
              "      <td>4.821886</td>\n",
              "      <td>4.852144</td>\n",
              "      <td>0.630362</td>\n",
              "      <td>12.009837</td>\n",
              "      <td>1.023066e+07</td>\n",
              "    </tr>\n",
              "    <tr>\n",
              "      <th>std</th>\n",
              "      <td>4.613841</td>\n",
              "      <td>9.506447</td>\n",
              "      <td>3.921946</td>\n",
              "      <td>1987.914858</td>\n",
              "      <td>22.996984</td>\n",
              "      <td>11467.272489</td>\n",
              "      <td>19.935375</td>\n",
              "      <td>160.445548</td>\n",
              "      <td>23.367166</td>\n",
              "      <td>2.400770</td>\n",
              "      <td>23.655562</td>\n",
              "      <td>5.077785</td>\n",
              "      <td>13296.603449</td>\n",
              "      <td>4.397621</td>\n",
              "      <td>4.485854</td>\n",
              "      <td>0.205140</td>\n",
              "      <td>3.265139</td>\n",
              "      <td>5.402235e+07</td>\n",
              "    </tr>\n",
              "    <tr>\n",
              "      <th>min</th>\n",
              "      <td>2000.000000</td>\n",
              "      <td>36.300000</td>\n",
              "      <td>0.010000</td>\n",
              "      <td>0.000000</td>\n",
              "      <td>1.000000</td>\n",
              "      <td>0.000000</td>\n",
              "      <td>1.000000</td>\n",
              "      <td>0.000000</td>\n",
              "      <td>3.000000</td>\n",
              "      <td>0.370000</td>\n",
              "      <td>2.000000</td>\n",
              "      <td>0.100000</td>\n",
              "      <td>1.681350</td>\n",
              "      <td>0.100000</td>\n",
              "      <td>0.100000</td>\n",
              "      <td>0.000000</td>\n",
              "      <td>0.000000</td>\n",
              "      <td>-8.600000e+01</td>\n",
              "    </tr>\n",
              "    <tr>\n",
              "      <th>25%</th>\n",
              "      <td>2004.000000</td>\n",
              "      <td>63.200000</td>\n",
              "      <td>1.092500</td>\n",
              "      <td>4.685343</td>\n",
              "      <td>82.000000</td>\n",
              "      <td>0.000000</td>\n",
              "      <td>19.400000</td>\n",
              "      <td>0.000000</td>\n",
              "      <td>78.000000</td>\n",
              "      <td>4.370000</td>\n",
              "      <td>78.000000</td>\n",
              "      <td>0.100000</td>\n",
              "      <td>580.486996</td>\n",
              "      <td>1.600000</td>\n",
              "      <td>1.600000</td>\n",
              "      <td>0.504250</td>\n",
              "      <td>10.300000</td>\n",
              "      <td>4.188930e+05</td>\n",
              "    </tr>\n",
              "    <tr>\n",
              "      <th>50%</th>\n",
              "      <td>2008.000000</td>\n",
              "      <td>72.100000</td>\n",
              "      <td>3.755000</td>\n",
              "      <td>64.912906</td>\n",
              "      <td>92.000000</td>\n",
              "      <td>17.000000</td>\n",
              "      <td>43.500000</td>\n",
              "      <td>4.000000</td>\n",
              "      <td>93.000000</td>\n",
              "      <td>5.755000</td>\n",
              "      <td>93.000000</td>\n",
              "      <td>0.100000</td>\n",
              "      <td>1766.947595</td>\n",
              "      <td>3.300000</td>\n",
              "      <td>3.300000</td>\n",
              "      <td>0.677000</td>\n",
              "      <td>12.300000</td>\n",
              "      <td>1.386399e+06</td>\n",
              "    </tr>\n",
              "    <tr>\n",
              "      <th>75%</th>\n",
              "      <td>2012.000000</td>\n",
              "      <td>75.600000</td>\n",
              "      <td>7.390000</td>\n",
              "      <td>441.534144</td>\n",
              "      <td>96.000000</td>\n",
              "      <td>360.250000</td>\n",
              "      <td>56.100000</td>\n",
              "      <td>28.000000</td>\n",
              "      <td>97.000000</td>\n",
              "      <td>7.330000</td>\n",
              "      <td>97.000000</td>\n",
              "      <td>0.800000</td>\n",
              "      <td>4779.405190</td>\n",
              "      <td>7.100000</td>\n",
              "      <td>7.200000</td>\n",
              "      <td>0.772000</td>\n",
              "      <td>14.100000</td>\n",
              "      <td>4.584318e+06</td>\n",
              "    </tr>\n",
              "    <tr>\n",
              "      <th>max</th>\n",
              "      <td>2015.000000</td>\n",
              "      <td>89.000000</td>\n",
              "      <td>17.870000</td>\n",
              "      <td>19479.911610</td>\n",
              "      <td>99.000000</td>\n",
              "      <td>212183.000000</td>\n",
              "      <td>87.300000</td>\n",
              "      <td>2500.000000</td>\n",
              "      <td>99.000000</td>\n",
              "      <td>17.600000</td>\n",
              "      <td>99.000000</td>\n",
              "      <td>50.600000</td>\n",
              "      <td>119172.741800</td>\n",
              "      <td>27.700000</td>\n",
              "      <td>28.600000</td>\n",
              "      <td>0.948000</td>\n",
              "      <td>20.700000</td>\n",
              "      <td>1.293858e+09</td>\n",
              "    </tr>\n",
              "  </tbody>\n",
              "</table>\n",
              "</div>\n",
              "      <button class=\"colab-df-convert\" onclick=\"convertToInteractive('df-6a0cd436-5e83-45be-a0f7-67df84104f4b')\"\n",
              "              title=\"Convert this dataframe to an interactive table.\"\n",
              "              style=\"display:none;\">\n",
              "        \n",
              "  <svg xmlns=\"http://www.w3.org/2000/svg\" height=\"24px\"viewBox=\"0 0 24 24\"\n",
              "       width=\"24px\">\n",
              "    <path d=\"M0 0h24v24H0V0z\" fill=\"none\"/>\n",
              "    <path d=\"M18.56 5.44l.94 2.06.94-2.06 2.06-.94-2.06-.94-.94-2.06-.94 2.06-2.06.94zm-11 1L8.5 8.5l.94-2.06 2.06-.94-2.06-.94L8.5 2.5l-.94 2.06-2.06.94zm10 10l.94 2.06.94-2.06 2.06-.94-2.06-.94-.94-2.06-.94 2.06-2.06.94z\"/><path d=\"M17.41 7.96l-1.37-1.37c-.4-.4-.92-.59-1.43-.59-.52 0-1.04.2-1.43.59L10.3 9.45l-7.72 7.72c-.78.78-.78 2.05 0 2.83L4 21.41c.39.39.9.59 1.41.59.51 0 1.02-.2 1.41-.59l7.78-7.78 2.81-2.81c.8-.78.8-2.07 0-2.86zM5.41 20L4 18.59l7.72-7.72 1.47 1.35L5.41 20z\"/>\n",
              "  </svg>\n",
              "      </button>\n",
              "      \n",
              "  <style>\n",
              "    .colab-df-container {\n",
              "      display:flex;\n",
              "      flex-wrap:wrap;\n",
              "      gap: 12px;\n",
              "    }\n",
              "\n",
              "    .colab-df-convert {\n",
              "      background-color: #E8F0FE;\n",
              "      border: none;\n",
              "      border-radius: 50%;\n",
              "      cursor: pointer;\n",
              "      display: none;\n",
              "      fill: #1967D2;\n",
              "      height: 32px;\n",
              "      padding: 0 0 0 0;\n",
              "      width: 32px;\n",
              "    }\n",
              "\n",
              "    .colab-df-convert:hover {\n",
              "      background-color: #E2EBFA;\n",
              "      box-shadow: 0px 1px 2px rgba(60, 64, 67, 0.3), 0px 1px 3px 1px rgba(60, 64, 67, 0.15);\n",
              "      fill: #174EA6;\n",
              "    }\n",
              "\n",
              "    [theme=dark] .colab-df-convert {\n",
              "      background-color: #3B4455;\n",
              "      fill: #D2E3FC;\n",
              "    }\n",
              "\n",
              "    [theme=dark] .colab-df-convert:hover {\n",
              "      background-color: #434B5C;\n",
              "      box-shadow: 0px 1px 3px 1px rgba(0, 0, 0, 0.15);\n",
              "      filter: drop-shadow(0px 1px 2px rgba(0, 0, 0, 0.3));\n",
              "      fill: #FFFFFF;\n",
              "    }\n",
              "  </style>\n",
              "\n",
              "      <script>\n",
              "        const buttonEl =\n",
              "          document.querySelector('#df-6a0cd436-5e83-45be-a0f7-67df84104f4b button.colab-df-convert');\n",
              "        buttonEl.style.display =\n",
              "          google.colab.kernel.accessAllowed ? 'block' : 'none';\n",
              "\n",
              "        async function convertToInteractive(key) {\n",
              "          const element = document.querySelector('#df-6a0cd436-5e83-45be-a0f7-67df84104f4b');\n",
              "          const dataTable =\n",
              "            await google.colab.kernel.invokeFunction('convertToInteractive',\n",
              "                                                     [key], {});\n",
              "          if (!dataTable) return;\n",
              "\n",
              "          const docLinkHtml = 'Like what you see? Visit the ' +\n",
              "            '<a target=\"_blank\" href=https://colab.research.google.com/notebooks/data_table.ipynb>data table notebook</a>'\n",
              "            + ' to learn more about interactive tables.';\n",
              "          element.innerHTML = '';\n",
              "          dataTable['output_type'] = 'display_data';\n",
              "          await google.colab.output.renderOutput(dataTable, element);\n",
              "          const docLink = document.createElement('div');\n",
              "          docLink.innerHTML = docLinkHtml;\n",
              "          element.appendChild(docLink);\n",
              "        }\n",
              "      </script>\n",
              "    </div>\n",
              "  </div>\n",
              "  "
            ],
            "text/plain": [
              "              year  life_expectancy      alcohol  percentage_expenditure  \\\n",
              "count  2938.000000      2938.000000  2938.000000             2938.000000   \n",
              "mean   2007.518720        69.239959     4.546875              738.251295   \n",
              "std       4.613841         9.506447     3.921946             1987.914858   \n",
              "min    2000.000000        36.300000     0.010000                0.000000   \n",
              "25%    2004.000000        63.200000     1.092500                4.685343   \n",
              "50%    2008.000000        72.100000     3.755000               64.912906   \n",
              "75%    2012.000000        75.600000     7.390000              441.534144   \n",
              "max    2015.000000        89.000000    17.870000            19479.911610   \n",
              "\n",
              "       hepatitis_b        measles          bmi  under_five_deaths  \\\n",
              "count  2938.000000    2938.000000  2938.000000        2938.000000   \n",
              "mean     83.022124    2419.592240    38.381178          42.035739   \n",
              "std      22.996984   11467.272489    19.935375         160.445548   \n",
              "min       1.000000       0.000000     1.000000           0.000000   \n",
              "25%      82.000000       0.000000    19.400000           0.000000   \n",
              "50%      92.000000      17.000000    43.500000           4.000000   \n",
              "75%      96.000000     360.250000    56.100000          28.000000   \n",
              "max      99.000000  212183.000000    87.300000        2500.000000   \n",
              "\n",
              "             polio  total_expenditure   diphtheria     hiv/aids  \\\n",
              "count  2938.000000        2938.000000  2938.000000  2938.000000   \n",
              "mean     82.617767           5.924098    82.393125     1.742103   \n",
              "std      23.367166           2.400770    23.655562     5.077785   \n",
              "min       3.000000           0.370000     2.000000     0.100000   \n",
              "25%      78.000000           4.370000    78.000000     0.100000   \n",
              "50%      93.000000           5.755000    93.000000     0.100000   \n",
              "75%      97.000000           7.330000    97.000000     0.800000   \n",
              "max      99.000000          17.600000    99.000000    50.600000   \n",
              "\n",
              "                 gdp  thinness_1-19_years  thinness_5-9_years  \\\n",
              "count    2938.000000          2938.000000         2938.000000   \n",
              "mean     6611.523863             4.821886            4.852144   \n",
              "std     13296.603449             4.397621            4.485854   \n",
              "min         1.681350             0.100000            0.100000   \n",
              "25%       580.486996             1.600000            1.600000   \n",
              "50%      1766.947595             3.300000            3.300000   \n",
              "75%      4779.405190             7.100000            7.200000   \n",
              "max    119172.741800            27.700000           28.600000   \n",
              "\n",
              "       income_composition_of_resources    schooling  total_population  \n",
              "count                      2938.000000  2938.000000      2.938000e+03  \n",
              "mean                          0.630362    12.009837      1.023066e+07  \n",
              "std                           0.205140     3.265139      5.402235e+07  \n",
              "min                           0.000000     0.000000     -8.600000e+01  \n",
              "25%                           0.504250    10.300000      4.188930e+05  \n",
              "50%                           0.677000    12.300000      1.386399e+06  \n",
              "75%                           0.772000    14.100000      4.584318e+06  \n",
              "max                           0.948000    20.700000      1.293858e+09  "
            ]
          },
          "metadata": {},
          "execution_count": 599
        }
      ],
      "source": [
        "new_dataset.describe()"
      ]
    },
    {
      "cell_type": "markdown",
      "source": [
        "*Normalise our dataset for machine learning"
      ],
      "metadata": {
        "id": "kdSgvsiLUSfz"
      }
    },
    {
      "cell_type": "code",
      "source": [
        "new_dataset = new_dataset[['alcohol', 'percentage_expenditure', 'hepatitis_b', 'measles', 'bmi', 'under_five_deaths', 'polio', 'total_expenditure', 'diphtheria', 'hiv/aids', 'gdp','thinness_1-19_years', 'thinness_5-9_years', 'income_composition_of_resources', 'schooling', 'life_expectancy']]\n",
        "scaler = MinMaxScaler()\n",
        "df_norm = pd.DataFrame(scaler.fit_transform(new_dataset), columns=new_dataset.columns)\n",
        "df_norm.head()"
      ],
      "metadata": {
        "colab": {
          "base_uri": "https://localhost:8080/",
          "height": 288
        },
        "id": "oY_qiuQ10DUc",
        "outputId": "4aea31aa-6217-463c-b4b5-e8bf284a2e77"
      },
      "execution_count": 600,
      "outputs": [
        {
          "output_type": "execute_result",
          "data": {
            "text/html": [
              "\n",
              "  <div id=\"df-e717e44c-e221-4e8c-8a70-79f629e077c7\">\n",
              "    <div class=\"colab-df-container\">\n",
              "      <div>\n",
              "<style scoped>\n",
              "    .dataframe tbody tr th:only-of-type {\n",
              "        vertical-align: middle;\n",
              "    }\n",
              "\n",
              "    .dataframe tbody tr th {\n",
              "        vertical-align: top;\n",
              "    }\n",
              "\n",
              "    .dataframe thead th {\n",
              "        text-align: right;\n",
              "    }\n",
              "</style>\n",
              "<table border=\"1\" class=\"dataframe\">\n",
              "  <thead>\n",
              "    <tr style=\"text-align: right;\">\n",
              "      <th></th>\n",
              "      <th>alcohol</th>\n",
              "      <th>percentage_expenditure</th>\n",
              "      <th>hepatitis_b</th>\n",
              "      <th>measles</th>\n",
              "      <th>bmi</th>\n",
              "      <th>under_five_deaths</th>\n",
              "      <th>polio</th>\n",
              "      <th>total_expenditure</th>\n",
              "      <th>diphtheria</th>\n",
              "      <th>hiv/aids</th>\n",
              "      <th>gdp</th>\n",
              "      <th>thinness_1-19_years</th>\n",
              "      <th>thinness_5-9_years</th>\n",
              "      <th>income_composition_of_resources</th>\n",
              "      <th>schooling</th>\n",
              "      <th>life_expectancy</th>\n",
              "    </tr>\n",
              "  </thead>\n",
              "  <tbody>\n",
              "    <tr>\n",
              "      <th>0</th>\n",
              "      <td>0.0</td>\n",
              "      <td>0.003659</td>\n",
              "      <td>0.653061</td>\n",
              "      <td>0.005439</td>\n",
              "      <td>0.209733</td>\n",
              "      <td>0.0332</td>\n",
              "      <td>0.031250</td>\n",
              "      <td>0.452118</td>\n",
              "      <td>0.649485</td>\n",
              "      <td>0.0</td>\n",
              "      <td>0.004889</td>\n",
              "      <td>0.619565</td>\n",
              "      <td>0.603509</td>\n",
              "      <td>0.505274</td>\n",
              "      <td>0.487923</td>\n",
              "      <td>0.544592</td>\n",
              "    </tr>\n",
              "    <tr>\n",
              "      <th>1</th>\n",
              "      <td>0.0</td>\n",
              "      <td>0.003774</td>\n",
              "      <td>0.622449</td>\n",
              "      <td>0.002319</td>\n",
              "      <td>0.203940</td>\n",
              "      <td>0.0344</td>\n",
              "      <td>0.572917</td>\n",
              "      <td>0.453279</td>\n",
              "      <td>0.618557</td>\n",
              "      <td>0.0</td>\n",
              "      <td>0.005127</td>\n",
              "      <td>0.630435</td>\n",
              "      <td>0.610526</td>\n",
              "      <td>0.502110</td>\n",
              "      <td>0.483092</td>\n",
              "      <td>0.447818</td>\n",
              "    </tr>\n",
              "    <tr>\n",
              "      <th>2</th>\n",
              "      <td>0.0</td>\n",
              "      <td>0.003759</td>\n",
              "      <td>0.642857</td>\n",
              "      <td>0.002027</td>\n",
              "      <td>0.198146</td>\n",
              "      <td>0.0356</td>\n",
              "      <td>0.614583</td>\n",
              "      <td>0.450377</td>\n",
              "      <td>0.639175</td>\n",
              "      <td>0.0</td>\n",
              "      <td>0.005287</td>\n",
              "      <td>0.637681</td>\n",
              "      <td>0.617544</td>\n",
              "      <td>0.495781</td>\n",
              "      <td>0.478261</td>\n",
              "      <td>0.447818</td>\n",
              "    </tr>\n",
              "    <tr>\n",
              "      <th>3</th>\n",
              "      <td>0.0</td>\n",
              "      <td>0.004014</td>\n",
              "      <td>0.673469</td>\n",
              "      <td>0.013135</td>\n",
              "      <td>0.192352</td>\n",
              "      <td>0.0372</td>\n",
              "      <td>0.666667</td>\n",
              "      <td>0.473012</td>\n",
              "      <td>0.670103</td>\n",
              "      <td>0.0</td>\n",
              "      <td>0.005608</td>\n",
              "      <td>0.644928</td>\n",
              "      <td>0.628070</td>\n",
              "      <td>0.488397</td>\n",
              "      <td>0.473430</td>\n",
              "      <td>0.440228</td>\n",
              "    </tr>\n",
              "    <tr>\n",
              "      <th>4</th>\n",
              "      <td>0.0</td>\n",
              "      <td>0.000364</td>\n",
              "      <td>0.683673</td>\n",
              "      <td>0.014200</td>\n",
              "      <td>0.187717</td>\n",
              "      <td>0.0388</td>\n",
              "      <td>0.677083</td>\n",
              "      <td>0.435287</td>\n",
              "      <td>0.680412</td>\n",
              "      <td>0.0</td>\n",
              "      <td>0.000519</td>\n",
              "      <td>0.655797</td>\n",
              "      <td>0.635088</td>\n",
              "      <td>0.478903</td>\n",
              "      <td>0.458937</td>\n",
              "      <td>0.434535</td>\n",
              "    </tr>\n",
              "  </tbody>\n",
              "</table>\n",
              "</div>\n",
              "      <button class=\"colab-df-convert\" onclick=\"convertToInteractive('df-e717e44c-e221-4e8c-8a70-79f629e077c7')\"\n",
              "              title=\"Convert this dataframe to an interactive table.\"\n",
              "              style=\"display:none;\">\n",
              "        \n",
              "  <svg xmlns=\"http://www.w3.org/2000/svg\" height=\"24px\"viewBox=\"0 0 24 24\"\n",
              "       width=\"24px\">\n",
              "    <path d=\"M0 0h24v24H0V0z\" fill=\"none\"/>\n",
              "    <path d=\"M18.56 5.44l.94 2.06.94-2.06 2.06-.94-2.06-.94-.94-2.06-.94 2.06-2.06.94zm-11 1L8.5 8.5l.94-2.06 2.06-.94-2.06-.94L8.5 2.5l-.94 2.06-2.06.94zm10 10l.94 2.06.94-2.06 2.06-.94-2.06-.94-.94-2.06-.94 2.06-2.06.94z\"/><path d=\"M17.41 7.96l-1.37-1.37c-.4-.4-.92-.59-1.43-.59-.52 0-1.04.2-1.43.59L10.3 9.45l-7.72 7.72c-.78.78-.78 2.05 0 2.83L4 21.41c.39.39.9.59 1.41.59.51 0 1.02-.2 1.41-.59l7.78-7.78 2.81-2.81c.8-.78.8-2.07 0-2.86zM5.41 20L4 18.59l7.72-7.72 1.47 1.35L5.41 20z\"/>\n",
              "  </svg>\n",
              "      </button>\n",
              "      \n",
              "  <style>\n",
              "    .colab-df-container {\n",
              "      display:flex;\n",
              "      flex-wrap:wrap;\n",
              "      gap: 12px;\n",
              "    }\n",
              "\n",
              "    .colab-df-convert {\n",
              "      background-color: #E8F0FE;\n",
              "      border: none;\n",
              "      border-radius: 50%;\n",
              "      cursor: pointer;\n",
              "      display: none;\n",
              "      fill: #1967D2;\n",
              "      height: 32px;\n",
              "      padding: 0 0 0 0;\n",
              "      width: 32px;\n",
              "    }\n",
              "\n",
              "    .colab-df-convert:hover {\n",
              "      background-color: #E2EBFA;\n",
              "      box-shadow: 0px 1px 2px rgba(60, 64, 67, 0.3), 0px 1px 3px 1px rgba(60, 64, 67, 0.15);\n",
              "      fill: #174EA6;\n",
              "    }\n",
              "\n",
              "    [theme=dark] .colab-df-convert {\n",
              "      background-color: #3B4455;\n",
              "      fill: #D2E3FC;\n",
              "    }\n",
              "\n",
              "    [theme=dark] .colab-df-convert:hover {\n",
              "      background-color: #434B5C;\n",
              "      box-shadow: 0px 1px 3px 1px rgba(0, 0, 0, 0.15);\n",
              "      filter: drop-shadow(0px 1px 2px rgba(0, 0, 0, 0.3));\n",
              "      fill: #FFFFFF;\n",
              "    }\n",
              "  </style>\n",
              "\n",
              "      <script>\n",
              "        const buttonEl =\n",
              "          document.querySelector('#df-e717e44c-e221-4e8c-8a70-79f629e077c7 button.colab-df-convert');\n",
              "        buttonEl.style.display =\n",
              "          google.colab.kernel.accessAllowed ? 'block' : 'none';\n",
              "\n",
              "        async function convertToInteractive(key) {\n",
              "          const element = document.querySelector('#df-e717e44c-e221-4e8c-8a70-79f629e077c7');\n",
              "          const dataTable =\n",
              "            await google.colab.kernel.invokeFunction('convertToInteractive',\n",
              "                                                     [key], {});\n",
              "          if (!dataTable) return;\n",
              "\n",
              "          const docLinkHtml = 'Like what you see? Visit the ' +\n",
              "            '<a target=\"_blank\" href=https://colab.research.google.com/notebooks/data_table.ipynb>data table notebook</a>'\n",
              "            + ' to learn more about interactive tables.';\n",
              "          element.innerHTML = '';\n",
              "          dataTable['output_type'] = 'display_data';\n",
              "          await google.colab.output.renderOutput(dataTable, element);\n",
              "          const docLink = document.createElement('div');\n",
              "          docLink.innerHTML = docLinkHtml;\n",
              "          element.appendChild(docLink);\n",
              "        }\n",
              "      </script>\n",
              "    </div>\n",
              "  </div>\n",
              "  "
            ],
            "text/plain": [
              "   alcohol  percentage_expenditure  hepatitis_b   measles       bmi  \\\n",
              "0      0.0                0.003659     0.653061  0.005439  0.209733   \n",
              "1      0.0                0.003774     0.622449  0.002319  0.203940   \n",
              "2      0.0                0.003759     0.642857  0.002027  0.198146   \n",
              "3      0.0                0.004014     0.673469  0.013135  0.192352   \n",
              "4      0.0                0.000364     0.683673  0.014200  0.187717   \n",
              "\n",
              "   under_five_deaths     polio  total_expenditure  diphtheria  hiv/aids  \\\n",
              "0             0.0332  0.031250           0.452118    0.649485       0.0   \n",
              "1             0.0344  0.572917           0.453279    0.618557       0.0   \n",
              "2             0.0356  0.614583           0.450377    0.639175       0.0   \n",
              "3             0.0372  0.666667           0.473012    0.670103       0.0   \n",
              "4             0.0388  0.677083           0.435287    0.680412       0.0   \n",
              "\n",
              "        gdp  thinness_1-19_years  thinness_5-9_years  \\\n",
              "0  0.004889             0.619565            0.603509   \n",
              "1  0.005127             0.630435            0.610526   \n",
              "2  0.005287             0.637681            0.617544   \n",
              "3  0.005608             0.644928            0.628070   \n",
              "4  0.000519             0.655797            0.635088   \n",
              "\n",
              "   income_composition_of_resources  schooling  life_expectancy  \n",
              "0                         0.505274   0.487923         0.544592  \n",
              "1                         0.502110   0.483092         0.447818  \n",
              "2                         0.495781   0.478261         0.447818  \n",
              "3                         0.488397   0.473430         0.440228  \n",
              "4                         0.478903   0.458937         0.434535  "
            ]
          },
          "metadata": {},
          "execution_count": 600
        }
      ]
    },
    {
      "cell_type": "markdown",
      "source": [
        "*split data into train, validation and test set and then fit to random forest for feature importance and selection"
      ],
      "metadata": {
        "id": "Kbr-LLRaUh99"
      }
    },
    {
      "cell_type": "code",
      "execution_count": 601,
      "metadata": {
        "id": "2JnCFDfARaE-",
        "colab": {
          "base_uri": "https://localhost:8080/"
        },
        "outputId": "ccfc7767-2a59-448d-8373-e0bc3bd3f9e6"
      },
      "outputs": [
        {
          "output_type": "execute_result",
          "data": {
            "text/plain": [
              "RandomForestRegressor(max_depth=4, random_state=1)"
            ]
          },
          "metadata": {},
          "execution_count": 601
        }
      ],
      "source": [
        "x = df_norm.drop(columns=['life_expectancy'], axis=1)\n",
        "y = df_norm['life_expectancy']\n",
        "x_train, x_test, y_train, y_test = train_test_split(x, y, test_size=.20, random_state=45 )\n",
        "x_train, x_val, y_train, y_val = train_test_split(x_train, y_train, test_size=0.25, random_state=1)\n",
        "ran_forest = RandomForestRegressor(random_state=1, max_depth=4)\n",
        "ran_forest.fit(df_norm, x)\n",
        "\n"
      ]
    },
    {
      "cell_type": "code",
      "execution_count": 602,
      "metadata": {
        "id": "rSC-d53va58_",
        "colab": {
          "base_uri": "https://localhost:8080/",
          "height": 376
        },
        "outputId": "46df0726-9e48-4563-8b72-bebcc2120508"
      },
      "outputs": [
        {
          "output_type": "display_data",
          "data": {
            "image/png": "[encoded data removed]",
            "text/plain": [
              "<Figure size 576x396 with 1 Axes>"
            ]
          },
          "metadata": {}
        }
      ],
      "source": [
        "from numpy.core.numeric import indices\n",
        "features = df_norm.columns\n",
        "important_features = ran_forest.feature_importances_\n",
        "indices = np.argsort(important_features)[-6:]\n",
        "plt.title(\"important feature selection for analysis\")\n",
        "plt.barh(range(len(indices)), important_features[indices], color='b', align='center')\n",
        "plt.yticks(range(len(indices)), [features[i] for i in indices])\n",
        "plt.xlabel(\"relative importance\")\n",
        "plt.show()\n"
      ]
    },
    {
      "cell_type": "markdown",
      "source": [
        " *Fitting the regression against the validation datasets to check how the model can be able to learn from the data. Using the following models\n",
        "\n",
        " a. Linear regression\n",
        "\n",
        " b. Elastic Net\n",
        "\n",
        " c. Ridge\n",
        " \n",
        " d. Lasso"
      ],
      "metadata": {
        "id": "KE71M3WG52gn"
      }
    },
    {
      "cell_type": "markdown",
      "source": [
        "*Linear Regression"
      ],
      "metadata": {
        "id": "A0ZjGr_655cU"
      }
    },
    {
      "cell_type": "code",
      "source": [
        "model = LinearRegression()\n",
        "power_output = model.fit(x_val, y_val)"
      ],
      "metadata": {
        "id": "a8ZAkFGe5lXl"
      },
      "execution_count": 603,
      "outputs": []
    },
    {
      "cell_type": "markdown",
      "source": [
        "*Getting your R2 score"
      ],
      "metadata": {
        "id": "4FGpZoSY6CxA"
      }
    },
    {
      "cell_type": "code",
      "source": [
        "coef_deter = power_output.score(x_val, y_val)\n",
        "coef_deter"
      ],
      "metadata": {
        "colab": {
          "base_uri": "https://localhost:8080/"
        },
        "id": "QNHGr1Ar6Ay9",
        "outputId": "4058ad5b-78c9-4bb8-9776-3b815bbd8031"
      },
      "execution_count": 604,
      "outputs": [
        {
          "output_type": "execute_result",
          "data": {
            "text/plain": [
              "0.7559532312163619"
            ]
          },
          "metadata": {},
          "execution_count": 604
        }
      ]
    },
    {
      "cell_type": "code",
      "source": [
        "1 - (1-model.score(x_val, y_val)) * (len(y_val)-1)/(len(y_val)-x_val.shape[1]-1)"
      ],
      "metadata": {
        "colab": {
          "base_uri": "https://localhost:8080/"
        },
        "id": "OPhS0g6B6HCb",
        "outputId": "a84e0529-02b4-4ad7-c927-5a9ab3ba0f59"
      },
      "execution_count": 605,
      "outputs": [
        {
          "output_type": "execute_result",
          "data": {
            "text/plain": [
              "0.7495534033636442"
            ]
          },
          "metadata": {},
          "execution_count": 605
        }
      ]
    },
    {
      "cell_type": "markdown",
      "source": [
        "*The score shows how the model was able to learn from the training dataset. it also shows variation of a dependent variable is being explained by the independent variable(s)"
      ],
      "metadata": {
        "id": "g17QEvhS6gsY"
      }
    },
    {
      "cell_type": "code",
      "source": [
        "intercept = model.coef_\n",
        "intercept"
      ],
      "metadata": {
        "colab": {
          "base_uri": "https://localhost:8080/"
        },
        "id": "IR_Kg3wM6eMI",
        "outputId": "9e2f3c60-6bed-4fc4-c031-08807b1279c9"
      },
      "execution_count": 606,
      "outputs": [
        {
          "output_type": "execute_result",
          "data": {
            "text/plain": [
              "array([-7.52401478e-05,  5.00010996e-02, -7.32603314e-02, -1.96000457e-03,\n",
              "        1.26382893e-01, -1.16738520e-01,  8.71199978e-02,  4.72282488e-02,\n",
              "        9.23019376e-02, -6.28252467e-01,  1.48570283e-01, -1.19046917e-01,\n",
              "        4.80277284e-02,  1.66115082e-01,  2.88748459e-01])"
            ]
          },
          "metadata": {},
          "execution_count": 606
        }
      ]
    },
    {
      "cell_type": "markdown",
      "source": [
        "*The coefficient is measurement used to explain how much variability of our dependent variable can be explained by our independent variable"
      ],
      "metadata": {
        "id": "VksHxexz6oqj"
      }
    },
    {
      "cell_type": "code",
      "source": [
        "y_predict = power_output.predict(x_test)\n",
        "y_train_predict = power_output.predict(x_train)"
      ],
      "metadata": {
        "id": "ePnuLF1A6leP"
      },
      "execution_count": 607,
      "outputs": []
    },
    {
      "cell_type": "markdown",
      "source": [
        "*Reporting RSquared score for the validation dataset LinearRegression and also the Error"
      ],
      "metadata": {
        "id": "9PkV-ksI6t-7"
      }
    },
    {
      "cell_type": "code",
      "source": [
        "print(\"MAE : \",mean_absolute_error(y_test, y_predict))\n",
        "print(\"MSE : \",mean_squared_error(y_test, y_predict))\n",
        "print(\"R2 score : \",r2_score(y_test, y_predict))"
      ],
      "metadata": {
        "colab": {
          "base_uri": "https://localhost:8080/"
        },
        "id": "K0eSSq7n6rmN",
        "outputId": "94e00f1b-0de3-48e0-d5a2-c5ecbfbd0e0a"
      },
      "execution_count": 608,
      "outputs": [
        {
          "output_type": "stream",
          "name": "stdout",
          "text": [
            "MAE :  0.06584042912832808\n",
            "MSE :  0.0076700563793716\n",
            "R2 score :  0.7397312943890013\n"
          ]
        }
      ]
    },
    {
      "cell_type": "markdown",
      "source": [
        "*Elastic"
      ],
      "metadata": {
        "id": "s5f-_MUd7Eda"
      }
    },
    {
      "cell_type": "code",
      "source": [
        "model = ElasticNet()\n",
        "power_output = model.fit(x_val, y_val)"
      ],
      "metadata": {
        "id": "yjnhCmj_6yvk"
      },
      "execution_count": 609,
      "outputs": []
    },
    {
      "cell_type": "markdown",
      "source": [
        "*Getting R2 Score"
      ],
      "metadata": {
        "id": "FL2pf16MP3U3"
      }
    },
    {
      "cell_type": "code",
      "source": [
        "coef_deter = power_output.score(x_val, y_val)\n",
        "coef_deter"
      ],
      "metadata": {
        "colab": {
          "base_uri": "https://localhost:8080/"
        },
        "id": "CRXHioP5-BJ7",
        "outputId": "e8c84a1c-35f2-426e-bf3b-8cee0a22167b"
      },
      "execution_count": 610,
      "outputs": [
        {
          "output_type": "execute_result",
          "data": {
            "text/plain": [
              "0.0"
            ]
          },
          "metadata": {},
          "execution_count": 610
        }
      ]
    },
    {
      "cell_type": "code",
      "source": [
        "1 - (1-model.score(x_val, y_val)) * (len(y_val)-1)/(len(y_val)-x_val.shape[1]-1)"
      ],
      "metadata": {
        "colab": {
          "base_uri": "https://localhost:8080/"
        },
        "id": "1Y_qHLCx-EIp",
        "outputId": "cd4b1cea-7414-4a84-e7db-aaaf4092f769"
      },
      "execution_count": 611,
      "outputs": [
        {
          "output_type": "execute_result",
          "data": {
            "text/plain": [
              "-0.02622377622377625"
            ]
          },
          "metadata": {},
          "execution_count": 611
        }
      ]
    },
    {
      "cell_type": "markdown",
      "source": [
        "*The score shows how the model was able to learn from the training dataset. it also shows variation of a dependent variable is being explained by the independent variable(s)"
      ],
      "metadata": {
        "id": "7ualor56QGhw"
      }
    },
    {
      "cell_type": "code",
      "source": [
        "intercept = model.coef_\n",
        "intercept"
      ],
      "metadata": {
        "colab": {
          "base_uri": "https://localhost:8080/"
        },
        "id": "Q9aBgT1X-HZI",
        "outputId": "442dafa3-2d01-46e6-aaab-615d7f058b13"
      },
      "execution_count": 612,
      "outputs": [
        {
          "output_type": "execute_result",
          "data": {
            "text/plain": [
              "array([ 0.,  0.,  0., -0.,  0., -0.,  0.,  0.,  0., -0.,  0., -0., -0.,\n",
              "        0.,  0.])"
            ]
          },
          "metadata": {},
          "execution_count": 612
        }
      ]
    },
    {
      "cell_type": "markdown",
      "source": [
        "*The coefficient is measurement used to explain how much variability of our dependent variable can be explained by our independent variable"
      ],
      "metadata": {
        "id": "YULi_9HuQXsF"
      }
    },
    {
      "cell_type": "code",
      "source": [
        "y_predict = power_output.predict(x_test)\n",
        "y_train_predict = power_output.predict(x_train)"
      ],
      "metadata": {
        "id": "3CMqRcXw-KRW"
      },
      "execution_count": 613,
      "outputs": []
    },
    {
      "cell_type": "markdown",
      "source": [
        "*Reporting RSquared score for the validation dataset LinearRegression and also the Error"
      ],
      "metadata": {
        "id": "Epr4BMZeQSoz"
      }
    },
    {
      "cell_type": "code",
      "source": [
        "print(\"MAE : \",mean_absolute_error(y_test, y_predict))\n",
        "print(\"MSE : \",mean_squared_error(y_test, y_predict))\n",
        "print(\"R2 score : \",r2_score(y_test, y_predict))"
      ],
      "metadata": {
        "colab": {
          "base_uri": "https://localhost:8080/"
        },
        "id": "zJURKVZF-OAW",
        "outputId": "efd276ad-528a-44ba-b65a-079075d96aef"
      },
      "execution_count": 614,
      "outputs": [
        {
          "output_type": "stream",
          "name": "stdout",
          "text": [
            "MAE :  0.13764096817133697\n",
            "MSE :  0.029582278738108925\n",
            "R2 score :  -0.0038180966829053364\n"
          ]
        }
      ]
    },
    {
      "cell_type": "markdown",
      "source": [
        "*Ridge"
      ],
      "metadata": {
        "id": "mH4lVDRv-gTJ"
      }
    },
    {
      "cell_type": "code",
      "source": [
        "model = Ridge()\n",
        "power_output = model.fit(x_val, y_val)"
      ],
      "metadata": {
        "id": "uEBxOuiX-QiF"
      },
      "execution_count": 615,
      "outputs": []
    },
    {
      "cell_type": "code",
      "source": [
        "coef_deter = power_output.score(x_val, y_val)\n",
        "coef_deter"
      ],
      "metadata": {
        "colab": {
          "base_uri": "https://localhost:8080/"
        },
        "id": "75ES6o5y-u-Q",
        "outputId": "897ef29e-52df-4de6-bb88-236eefa517cc"
      },
      "execution_count": 616,
      "outputs": [
        {
          "output_type": "execute_result",
          "data": {
            "text/plain": [
              "0.7528419181352844"
            ]
          },
          "metadata": {},
          "execution_count": 616
        }
      ]
    },
    {
      "cell_type": "code",
      "source": [
        "1 - (1-model.score(x_val, y_val)) * (len(y_val)-1)/(len(y_val)-x_val.shape[1]-1)"
      ],
      "metadata": {
        "colab": {
          "base_uri": "https://localhost:8080/"
        },
        "id": "Umwo14ze-x72",
        "outputId": "56cc06c2-6402-4288-84b1-ad6e844e7341"
      },
      "execution_count": 617,
      "outputs": [
        {
          "output_type": "execute_result",
          "data": {
            "text/plain": [
              "0.7463604999045664"
            ]
          },
          "metadata": {},
          "execution_count": 617
        }
      ]
    },
    {
      "cell_type": "code",
      "source": [
        "intercept = model.coef_\n",
        "intercept"
      ],
      "metadata": {
        "colab": {
          "base_uri": "https://localhost:8080/"
        },
        "id": "REox_cSr-6AN",
        "outputId": "842dadce-ddc6-4e5a-8e83-6b1a83ba2dcf"
      },
      "execution_count": 618,
      "outputs": [
        {
          "output_type": "execute_result",
          "data": {
            "text/plain": [
              "array([-0.00157711,  0.07508542, -0.06542408, -0.01761888,  0.12970215,\n",
              "       -0.06175988,  0.08711486,  0.0371067 ,  0.09735759, -0.52390329,\n",
              "        0.1177544 , -0.09740918, -0.00433971,  0.18276487,  0.25823099])"
            ]
          },
          "metadata": {},
          "execution_count": 618
        }
      ]
    },
    {
      "cell_type": "code",
      "source": [
        "y_predict = power_output.predict(x_test)\n",
        "y_train_predict = power_output.predict(x_train)"
      ],
      "metadata": {
        "id": "yhV_gC_m-8sJ"
      },
      "execution_count": 619,
      "outputs": []
    },
    {
      "cell_type": "markdown",
      "source": [
        "*Error score"
      ],
      "metadata": {
        "id": "QzK0fs-dQsLD"
      }
    },
    {
      "cell_type": "code",
      "source": [
        "print(\"MAE : \",mean_absolute_error(y_test, y_predict))\n",
        "print(\"MSE : \",mean_squared_error(y_test, y_predict))\n",
        "print(\"R2 score : \",r2_score(y_test, y_predict))"
      ],
      "metadata": {
        "colab": {
          "base_uri": "https://localhost:8080/"
        },
        "id": "nY_Xx34c-_Hy",
        "outputId": "efc2ad75-5ba5-4fb7-e54d-ed9b7b54aa2f"
      },
      "execution_count": 620,
      "outputs": [
        {
          "output_type": "stream",
          "name": "stdout",
          "text": [
            "MAE :  0.06666479015315542\n",
            "MSE :  0.007773714059038507\n",
            "R2 score :  0.7362138691212936\n"
          ]
        }
      ]
    },
    {
      "cell_type": "markdown",
      "source": [
        "*Lasso"
      ],
      "metadata": {
        "id": "6ETL2_FADJQe"
      }
    },
    {
      "cell_type": "code",
      "source": [
        "model = Ridge()\n",
        "power_output = model.fit(x_val, y_val)"
      ],
      "metadata": {
        "id": "1RGFoLM7_BRj"
      },
      "execution_count": 621,
      "outputs": []
    },
    {
      "cell_type": "code",
      "source": [
        "coef_deter = power_output.score(x_val, y_val)\n",
        "coef_deter"
      ],
      "metadata": {
        "colab": {
          "base_uri": "https://localhost:8080/"
        },
        "id": "i3Em3TD3Dbmb",
        "outputId": "75ee9bb2-6d9d-41e6-bd06-dbfad52d2b73"
      },
      "execution_count": 622,
      "outputs": [
        {
          "output_type": "execute_result",
          "data": {
            "text/plain": [
              "0.7528419181352844"
            ]
          },
          "metadata": {},
          "execution_count": 622
        }
      ]
    },
    {
      "cell_type": "code",
      "source": [
        "1 - (1-model.score(x_val, y_val)) * (len(y_val)-1)/(len(y_val)-x_val.shape[1]-1)"
      ],
      "metadata": {
        "colab": {
          "base_uri": "https://localhost:8080/"
        },
        "id": "Vkd9eeeRDekg",
        "outputId": "d8ee3e43-ad1e-4d73-cbf3-4b9037bd4880"
      },
      "execution_count": 623,
      "outputs": [
        {
          "output_type": "execute_result",
          "data": {
            "text/plain": [
              "0.7463604999045664"
            ]
          },
          "metadata": {},
          "execution_count": 623
        }
      ]
    },
    {
      "cell_type": "code",
      "source": [
        "intercept = model.coef_\n",
        "intercept"
      ],
      "metadata": {
        "colab": {
          "base_uri": "https://localhost:8080/"
        },
        "id": "FT_HNjkcDhHe",
        "outputId": "0bc6f678-bfe6-4c4a-983e-115e7dc07612"
      },
      "execution_count": 624,
      "outputs": [
        {
          "output_type": "execute_result",
          "data": {
            "text/plain": [
              "array([-0.00157711,  0.07508542, -0.06542408, -0.01761888,  0.12970215,\n",
              "       -0.06175988,  0.08711486,  0.0371067 ,  0.09735759, -0.52390329,\n",
              "        0.1177544 , -0.09740918, -0.00433971,  0.18276487,  0.25823099])"
            ]
          },
          "metadata": {},
          "execution_count": 624
        }
      ]
    },
    {
      "cell_type": "code",
      "source": [
        "y_predict = power_output.predict(x_test)\n",
        "y_train_predict = power_output.predict(x_train)"
      ],
      "metadata": {
        "id": "0Us-O8JjDjmN"
      },
      "execution_count": 625,
      "outputs": []
    },
    {
      "cell_type": "code",
      "source": [
        "print(\"MAE : \",mean_absolute_error(y_test, y_predict))\n",
        "print(\"MSE : \",mean_squared_error(y_test, y_predict))\n",
        "print(\"R2 score : \",r2_score(y_test, y_predict))"
      ],
      "metadata": {
        "colab": {
          "base_uri": "https://localhost:8080/"
        },
        "id": "13z9hfOkDmc4",
        "outputId": "814150d9-ed13-4258-be04-afc910779c7d"
      },
      "execution_count": 626,
      "outputs": [
        {
          "output_type": "stream",
          "name": "stdout",
          "text": [
            "MAE :  0.06666479015315542\n",
            "MSE :  0.007773714059038507\n",
            "R2 score :  0.7362138691212936\n"
          ]
        }
      ]
    },
    {
      "cell_type": "markdown",
      "source": [
        "*Hyper-parametric tuning"
      ],
      "metadata": {
        "id": "_hUpk1IuQ2g5"
      }
    },
    {
      "cell_type": "code",
      "source": [
        "train_score = []\n",
        "test_score = []\n",
        "\n",
        "random_state = 10\n",
        "\n",
        "for i in range(random_state):\n",
        "    x_train1, x_test1, y_train1, y_test1 = train_test_split(x_val, y_val, test_size = 0.30, random_state = i)\n",
        "\n",
        "    linear_model_1 = LinearRegression()\n",
        "    linear_model_1.fit(x_train1, y_train1)\n",
        "    \n",
        "    y_train_predict_mimax = linear_model_1.predict(x_train1)\n",
        "    y_test_predict_minmax = linear_model_1.predict(x_test1)\n",
        "    \n",
        "    train_score = np.append(train_score, r2_score(y_train1, y_train_predict_mimax))\n",
        "    test_score = np.append(test_score, r2_score(y_test1, y_test_predict_minmax))\n",
        "\n",
        "print(x_train1.shape)\n",
        "print(y_train1.shape)"
      ],
      "metadata": {
        "colab": {
          "base_uri": "https://localhost:8080/"
        },
        "id": "Nv8yVMe6DpPj",
        "outputId": "907fcbde-9db1-48b7-fb2a-be9ec8c59f83"
      },
      "execution_count": 627,
      "outputs": [
        {
          "output_type": "stream",
          "name": "stdout",
          "text": [
            "(411, 15)\n",
            "(411,)\n"
          ]
        }
      ]
    },
    {
      "cell_type": "code",
      "source": [
        "train_score"
      ],
      "metadata": {
        "colab": {
          "base_uri": "https://localhost:8080/"
        },
        "id": "p-GD_4cKD0NJ",
        "outputId": "477bfa48-dc83-40e9-c332-9db8161ad782"
      },
      "execution_count": 628,
      "outputs": [
        {
          "output_type": "execute_result",
          "data": {
            "text/plain": [
              "array([0.78492673, 0.76205748, 0.74550209, 0.79121303, 0.74555312,\n",
              "       0.74991646, 0.77623654, 0.77701163, 0.74587104, 0.74047112])"
            ]
          },
          "metadata": {},
          "execution_count": 628
        }
      ]
    },
    {
      "cell_type": "code",
      "source": [
        "test_score"
      ],
      "metadata": {
        "colab": {
          "base_uri": "https://localhost:8080/"
        },
        "id": "u5OLJPXTD-Pu",
        "outputId": "315bec66-3fed-4370-c981-814e83e1db72"
      },
      "execution_count": 629,
      "outputs": [
        {
          "output_type": "execute_result",
          "data": {
            "text/plain": [
              "array([0.66638145, 0.72884324, 0.76506827, 0.67087986, 0.76303127,\n",
              "       0.75666913, 0.70356547, 0.67959416, 0.73379722, 0.7657167 ])"
            ]
          },
          "metadata": {},
          "execution_count": 629
        }
      ]
    },
    {
      "cell_type": "code",
      "source": [
        "print('R2 train: %.2f +/- %.2f' % (np.mean(train_score),np.std(train_score)))"
      ],
      "metadata": {
        "colab": {
          "base_uri": "https://localhost:8080/"
        },
        "id": "JHpM405yEBxa",
        "outputId": "2e45d516-8979-4c8e-d673-62c66a444c05"
      },
      "execution_count": 630,
      "outputs": [
        {
          "output_type": "stream",
          "name": "stdout",
          "text": [
            "R2 train: 0.76 +/- 0.02\n"
          ]
        }
      ]
    },
    {
      "cell_type": "code",
      "source": [
        "print('R2 train: %.2f +/- %.2f' % (np.mean(test_score),np.std(test_score)))"
      ],
      "metadata": {
        "colab": {
          "base_uri": "https://localhost:8080/"
        },
        "id": "MhVtVGGKEGWD",
        "outputId": "0635db05-5ce0-4ddb-e977-a0c4f37893e3"
      },
      "execution_count": 631,
      "outputs": [
        {
          "output_type": "stream",
          "name": "stdout",
          "text": [
            "R2 train: 0.72 +/- 0.04\n"
          ]
        }
      ]
    },
    {
      "cell_type": "markdown",
      "source": [
        "*Hyperparameters tuning are parameters estimates which improves the result of the linear regression model (Eg: increasing the percentage of train set/test set) and the variables which determine how the model is being trained Hyperparameters are set before training.**"
      ],
      "metadata": {
        "id": "GU3ngksZRFfL"
      }
    },
    {
      "cell_type": "markdown",
      "source": [
        "*Train the model with the best amongst the above and the best is LinearRegression"
      ],
      "metadata": {
        "id": "7CzTPVk8NRDO"
      }
    },
    {
      "cell_type": "code",
      "source": [
        "model = LinearRegression()\n",
        "power_output = model.fit(x_train, y_train)"
      ],
      "metadata": {
        "id": "J3y2QQPisbzi"
      },
      "execution_count": 632,
      "outputs": []
    },
    {
      "cell_type": "code",
      "source": [
        "coef_deter = power_output.score(x_train, y_train)\n",
        "coef_deter"
      ],
      "metadata": {
        "colab": {
          "base_uri": "https://localhost:8080/"
        },
        "id": "DD2o2K8tNiDQ",
        "outputId": "e29d5c66-f353-451f-d014-26bdf699aa22"
      },
      "execution_count": 633,
      "outputs": [
        {
          "output_type": "execute_result",
          "data": {
            "text/plain": [
              "0.7749590600209252"
            ]
          },
          "metadata": {},
          "execution_count": 633
        }
      ]
    },
    {
      "cell_type": "code",
      "source": [
        "intercept = model.coef_\n",
        "intercept"
      ],
      "metadata": {
        "colab": {
          "base_uri": "https://localhost:8080/"
        },
        "id": "6rbqorAuNjpS",
        "outputId": "1d7d5e4b-ac90-4695-9caa-119598b5e140"
      },
      "execution_count": 634,
      "outputs": [
        {
          "output_type": "execute_result",
          "data": {
            "text/plain": [
              "array([ 0.02663244,  0.02597358, -0.02360969, -0.07820546,  0.07770833,\n",
              "       -0.01592328,  0.05919325,  0.03321116,  0.08471915, -0.68422001,\n",
              "        0.12001851, -0.01615776, -0.02545921,  0.14443553,  0.33969732])"
            ]
          },
          "metadata": {},
          "execution_count": 634
        }
      ]
    },
    {
      "cell_type": "code",
      "source": [
        "print(\"MAE : \",mean_absolute_error(y_test, y_predict))\n",
        "print(\"MSE : \",mean_squared_error(y_test, y_predict))\n",
        "print(\"R2 score : \",r2_score(y_test, y_predict))"
      ],
      "metadata": {
        "colab": {
          "base_uri": "https://localhost:8080/"
        },
        "id": "MFpGYyDwOE_t",
        "outputId": "cd970a32-6ec5-4718-8ce4-572837b2a1a2"
      },
      "execution_count": 635,
      "outputs": [
        {
          "output_type": "stream",
          "name": "stdout",
          "text": [
            "MAE :  0.06666479015315542\n",
            "MSE :  0.007773714059038507\n",
            "R2 score :  0.7362138691212936\n"
          ]
        }
      ]
    },
    {
      "cell_type": "code",
      "source": [
        ""
      ],
      "metadata": {
        "id": "8IiaqVAvOOzQ"
      },
      "execution_count": 635,
      "outputs": []
    }
  ],
  "metadata": {
    "colab": {
      "collapsed_sections": [],
      "name": "life_expectancy_project.ipynb",
      "provenance": [],
      "authorship_tag": "ABX9TyM+CFFbjbVZMgEhNBgFzKdf",
      "include_colab_link": true
    },
    "kernelspec": {
      "display_name": "Python 3",
      "name": "python3"
    },
    "language_info": {
      "name": "python"
    }
  },
  "nbformat": 4,
  "nbformat_minor": 0
}